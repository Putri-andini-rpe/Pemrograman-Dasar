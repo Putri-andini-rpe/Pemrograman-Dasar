{
  "nbformat": 4,
  "nbformat_minor": 0,
  "metadata": {
    "colab": {
      "provenance": [],
      "authorship_tag": "ABX9TyOFfts5nKp64hZEFJ/44GPy",
      "include_colab_link": true
    },
    "kernelspec": {
      "name": "python3",
      "display_name": "Python 3"
    },
    "language_info": {
      "name": "python"
    }
  },
  "cells": [
    {
      "cell_type": "markdown",
      "metadata": {
        "id": "view-in-github",
        "colab_type": "text"
      },
      "source": [
        "<a href=\"https://colab.research.google.com/github/Putri-andini-rpe/Pemrograman-Dasar/blob/main/Latihan_4ipynb.ipynb\" target=\"_parent\"><img src=\"https://colab.research.google.com/assets/colab-badge.svg\" alt=\"Open In Colab\"/></a>"
      ]
    },
    {
      "cell_type": "code",
      "execution_count": null,
      "metadata": {
        "id": "NQT5h1p7DFTv"
      },
      "outputs": [],
      "source": [
        "# Latihan\n",
        "\n",
        "1. Buat program yang meminta sebuah angka, lalu tampilkan \"Kelipatan 5\" jika angka tersebut habis dibagi 5.\n",
        "2. Menentukan Tahun Kabisat dengan menggunakan kondisi\n",
        "    a. Penjelasan:\n",
        "        - Syarat tahun kabisat:\n",
        "           - Habis dibagi 400 == Kabisat\n",
        "           - Habis dibagi 4 dan tidak habis dibagi 100 == Kabisat\n",
        "3. Buatlah sebuah soal matematika dan penyelesaiannya menggunakan program python yang memanfaatkan kondisi if\n",
        "   atau if else atau if elif else\n",
        "4. Buat program yang meminta input bulan (angka 1-12), lalu tampilkan nama bulan (1-Januari, 2-Februari, dst).\n",
        "   Jika tidak valid tampilkan \"input salah\".\n",
        "5. Buat program yang meminta jam (0-23), lalu tampilkan salam:\n",
        "    == 0-11 == Selamat Pagi\n",
        "    == 12-15 == Selamat Siang\n",
        "    == 16-18 == Selamat Sore\n",
        "    == 19-23 == Selamat Malam\n",
        "\n",
        "# Jelaskan pada laporan\n",
        "\n"
      ]
    },
    {
      "cell_type": "code",
      "source": [
        "# Kode program no 1\n",
        "\n",
        "angka = int(input(\"Masukkan sebuah angka: \"))\n",
        "\n",
        "if angka % 5 == 0:\n",
        "    print(\"Kelipatan 5\")\n",
        "else:\n",
        "    print(\"Bukan kelipatan 5\")\n",
        "\n"
      ],
      "metadata": {
        "colab": {
          "base_uri": "https://localhost:8080/"
        },
        "id": "jwmcGpdMZKAU",
        "outputId": "b5a87d01-04c5-4bba-b3ef-8b818e93225e"
      },
      "execution_count": 3,
      "outputs": [
        {
          "output_type": "stream",
          "name": "stdout",
          "text": [
            "Masukkan sebuah angka: 355\n",
            "Kelipatan 5\n"
          ]
        }
      ]
    },
    {
      "cell_type": "code",
      "source": [
        "# Kode program no 2\n",
        "\n",
        "tahun = int(input(\"Masukkan tahun: \"))\n",
        "\n",
        "if tahun % 400 == 0:\n",
        "    print(\"Tahun kabisat\")\n",
        "elif tahun % 4 == 0 and tahun % 100 != 0:\n",
        "    print(\"Tahun kabisat\")\n",
        "else:\n",
        "    print(\"Bukan tahun kabisat\")"
      ],
      "metadata": {
        "colab": {
          "base_uri": "https://localhost:8080/"
        },
        "id": "0OosWotCZi7E",
        "outputId": "a9fb18e0-3643-4213-984e-3acedad7347c"
      },
      "execution_count": 6,
      "outputs": [
        {
          "output_type": "stream",
          "name": "stdout",
          "text": [
            "Masukkan tahun: 2025\n",
            "Bukan tahun kabisat\n"
          ]
        }
      ]
    },
    {
      "cell_type": "code",
      "source": [
        "# Kode program no 3\n",
        "# Program Menghitung Sisa Uang Harian\n",
        "\n",
        "# input data\n",
        "uang_saku = int(input(\"Masukkan uang saku harian kamu (Rp): \"))\n",
        "sarapan = int(input(\"Pengeluaran untuk sarapan (Rp): \"))\n",
        "transport = int(input(\"Pengeluaran untuk transportasi (Rp): \"))\n",
        "jajan = int(input(\"Pengeluaran untuk jajan (Rp): \"))\n",
        "makan_siang = int(input(\"Pengeluaran untuk makan siang (Rp): \"))\n",
        "makan_malam = int(input(\"Pengeluaran untuk makan malam (Rp): \"))\n",
        "nongkrong = int(input(\"Pengaluaran untuk nongkrong (Rp): \"))\n",
        "\n",
        "# proses perhitungan pengluaran\n",
        "total_pengeluaran = sarapan + transport + jajan + makan_siang + makan_malam + nongkrong\n",
        "sisa_uang = uang_saku - total_pengeluaran\n",
        "yang_ditabung = uang_saku - total_pengeluaran\n",
        "\n",
        "# menampilkan hasil\n",
        "print(\"\\nTotal pengeluaran hari ini: Rp\", total_pengeluaran)\n",
        "print(\"Sisa uang kamu: Rp\", sisa_uang)\n",
        "print(\"Yang ditabung: Rp\", yang_ditabung)\n",
        "\n",
        "# kondisi untuk memberi penilaian\n",
        "if sisa_uang > 15000:\n",
        "    print(\"Nice! Aku sangat hemat hari ini.\")\n",
        "elif sisa_uang >= 10000:\n",
        "    print(\"good, tetap jaga pengeluaranmu.\")\n",
        "else:\n",
        "    print(\"Omg!, Aku terlalu boros hari ini!\")"
      ],
      "metadata": {
        "colab": {
          "base_uri": "https://localhost:8080/"
        },
        "id": "AWpflbAmZ4tr",
        "outputId": "ff24fcbf-84b2-4092-c1a9-81d403a8136d"
      },
      "execution_count": 11,
      "outputs": [
        {
          "output_type": "stream",
          "name": "stdout",
          "text": [
            "Masukkan uang saku harian kamu (Rp): 30000\n",
            "Pengeluaran untuk sarapan (Rp): 0\n",
            "Pengeluaran untuk transportasi (Rp): 0\n",
            "Pengeluaran untuk jajan (Rp): 10000\n",
            "Pengeluaran untuk makan siang (Rp): 15000\n",
            "Pengeluaran untuk makan malam (Rp): 0\n",
            "Pengaluaran untuk nongkrong (Rp): 0\n",
            "\n",
            "Total pengeluaran hari ini: Rp 25000\n",
            "Sisa uang kamu: Rp 5000\n",
            "Yang ditabung: Rp 5000\n",
            "Omg!, Aku terlalu boros hari ini!\n"
          ]
        }
      ]
    },
    {
      "cell_type": "code",
      "source": [
        "# Kode program no 4\n",
        "# Program Menampilkan Nama Bulan Berdasarkan Angka\n",
        "\n",
        "# input data\n",
        "bulan = int(input(\"Masukkan angka bulan (1-12): \"))\n",
        "\n",
        "# kondisi untuk menentukan nama bulan\n",
        "if bulan == 1:\n",
        "    print(\"Januari\")\n",
        "elif bulan == 2:\n",
        "    print(\"Februari\")\n",
        "elif bulan == 3:\n",
        "    print(\"Maret\")\n",
        "elif bulan == 4:\n",
        "    print(\"April\")\n",
        "elif bulan == 5:\n",
        "    print(\"Mei\")\n",
        "elif bulan == 6:\n",
        "    print(\"Juni\")\n",
        "elif bulan == 7:\n",
        "    print(\"Juli\")\n",
        "elif bulan == 8:\n",
        "    print(\"Agustus\")\n",
        "elif bulan == 9:\n",
        "    print(\"September\")\n",
        "elif bulan == 10:\n",
        "    print(\"Oktober\")\n",
        "elif bulan == 11:\n",
        "    print(\"November\")\n",
        "elif bulan == 12:\n",
        "    print(\"Desember\")\n",
        "else:\n",
        "    print(\"Input salah!\")"
      ],
      "metadata": {
        "colab": {
          "base_uri": "https://localhost:8080/"
        },
        "id": "SqZ4mwuFgJiR",
        "outputId": "661cf638-2eb3-4d94-e6ec-af99d6c3d164"
      },
      "execution_count": 12,
      "outputs": [
        {
          "output_type": "stream",
          "name": "stdout",
          "text": [
            "Masukkan angka bulan (1-12): 5\n",
            "Mei\n"
          ]
        }
      ]
    },
    {
      "cell_type": "code",
      "source": [
        "# Kode program no 5\n",
        "# Program Menampilkan Salam Berdasarkan Jam\n",
        "\n",
        "# input data\n",
        "jam = int(input(\"Masukkan jam (0-23): \"))\n",
        "# kondisi untuk menentukan salam\n",
        "if 0 <= jam <= 11:\n",
        "    print(\"Selamat Pagi\")\n",
        "elif 12 <= jam <= 15:\n",
        "    print(\"Selamat Siang\")\n",
        "elif 16 <= jam <= 18:\n",
        "    print(\"Selamat Sore\")\n",
        "elif 19 <= jam <= 23:\n",
        "    print(\"Selamat Malam\")\n",
        "else:\n",
        "    print(\"Input jam tidak valid!\")\n",
        "#Penjelasan Program"
      ],
      "metadata": {
        "colab": {
          "base_uri": "https://localhost:8080/"
        },
        "id": "EXl6oBEeksgY",
        "outputId": "4d23ac81-f9dc-48a9-9c40-4160b87b43cc"
      },
      "execution_count": 15,
      "outputs": [
        {
          "output_type": "stream",
          "name": "stdout",
          "text": [
            "Masukkan jam (0-23): 19\n",
            "Selamat Malam\n"
          ]
        }
      ]
    }
  ]
}