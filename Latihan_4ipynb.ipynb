{
  "nbformat": 4,
  "nbformat_minor": 0,
  "metadata": {
    "colab": {
      "provenance": [],
      "authorship_tag": "ABX9TyOW2IhLgJe3gY7/DuUdqnie",
      "include_colab_link": true
    },
    "kernelspec": {
      "name": "python3",
      "display_name": "Python 3"
    },
    "language_info": {
      "name": "python"
    }
  },
  "cells": [
    {
      "cell_type": "markdown",
      "metadata": {
        "id": "view-in-github",
        "colab_type": "text"
      },
      "source": [
        "<a href=\"https://colab.research.google.com/github/Putri-andini-rpe/Pemrograman-Dasar/blob/main/Latihan_4ipynb.ipynb\" target=\"_parent\"><img src=\"https://colab.research.google.com/assets/colab-badge.svg\" alt=\"Open In Colab\"/></a>"
      ]
    },
    {
      "cell_type": "code",
      "execution_count": null,
      "metadata": {
        "id": "NQT5h1p7DFTv"
      },
      "outputs": [],
      "source": [
        "# Latihan\n",
        "\n",
        "1. Buat program yang meminta sebuah angka, lalu tampilkan \"Kelipatan 5\" jika angka tersebut habis dibagi 5.\n",
        "2. Menentukan Tahun Kabisat dengan emnggunakan kondisi\n",
        "    a. Penjelasan:\n",
        "        - Syarat tahun kabisat:\n",
        "           - Habis dibagi 400 == Kabisat\n",
        "           - Habos dibagi 4 dan tidak habis dibagi 100 == Kabisat\n",
        "3. Buatlah sebuah soal matematika dan penyelesaiannya menggunakan program python yang memanfaatkan kondisi if\n",
        "   atau if else atau if elif else\n",
        "4. Buat program yang meminta input bulan (angka 1-12), lalu tampilkan nama bulan (1-Januari, 2-Februari, dst).\n",
        "   Jika tidak valid tampilkan \"input salah\".\n",
        "5. Buat program yang meminta ja (0-23), lalu tampilkan salam:\n",
        "    == 0-11 == Selamat Pagi\n",
        "    == 12-15 == Selamat Siang\n",
        "    == 16-18 == Selamat Sore\n",
        "    == 19-23 == Selamat Malam\n",
        "\n",
        "# Jelaskan pada laporan\n",
        "\n"
      ]
    }
  ]
}