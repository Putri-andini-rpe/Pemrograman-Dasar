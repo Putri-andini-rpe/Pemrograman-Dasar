{
  "nbformat": 4,
  "nbformat_minor": 0,
  "metadata": {
    "colab": {
      "provenance": [],
      "authorship_tag": "ABX9TyPKmLJlHk2sFPYyujxPT836",
      "include_colab_link": true
    },
    "kernelspec": {
      "name": "python3",
      "display_name": "Python 3"
    },
    "language_info": {
      "name": "python"
    }
  },
  "cells": [
    {
      "cell_type": "markdown",
      "metadata": {
        "id": "view-in-github",
        "colab_type": "text"
      },
      "source": [
        "<a href=\"https://colab.research.google.com/github/Putri-andini-rpe/Pemrograman-Dasar/blob/main/Latihan_2_ipynb.ipynb\" target=\"_parent\"><img src=\"https://colab.research.google.com/assets/colab-badge.svg\" alt=\"Open In Colab\"/></a>"
      ]
    },
    {
      "cell_type": "code",
      "execution_count": null,
      "metadata": {
        "colab": {
          "base_uri": "https://localhost:8080/"
        },
        "id": "ETd9Mbcz_4vj",
        "outputId": "70df24f1-960f-44ba-f02c-8b46bacde331"
      },
      "outputs": [
        {
          "output_type": "stream",
          "name": "stdout",
          "text": [
            "--- Deklarasi variabel list ---\n",
            "Isi list numbers: [23, 43, 51, 52]\n",
            "23\n",
            "43\n",
            "51\n",
            "52\n",
            "number:[2] :  51\n",
            "number:[3] :  52\n"
          ]
        }
      ],
      "source": [
        " Latihan 1\n",
        "# Deklarasi variabel list\n",
        "numbers = [23, 43, 15, 34]\n",
        "#cara mengakses elemen dalam variabel list\n",
        "numbers[0] # 23\n",
        "numbers[1] # 43\n",
        "numbers[2] # 15\n",
        "numbers[3] # 34\n",
        "# cara mengubah nilai elemen dalam variabel list\n",
        "numbers[2] = 51\n",
        "numbers[3] = 52\n",
        "\n",
        "#lakukan untuk setiap indexnya dan lihat hasilnya\n",
        "print(\"--- Deklarasi variabel list ---\")\n",
        "print(\"Isi list numbers:\", numbers)\n",
        "print (numbers[0])\n",
        "print (numbers[1])\n",
        "print (numbers[2])\n",
        "print (numbers[3])\n",
        "print (\"number:[2] : \", numbers[2])\n",
        "print (\"number:[3] : \", numbers[3] )"
      ]
    },
    {
      "cell_type": "code",
      "source": [
        "Latihan 2\n",
        "# deklarasi variabel list numbers\n",
        "numbers = [1, 2, 3]\n",
        "\n",
        "# menambahkan elemen di indeks ke-3\n",
        "numbers.insert(3, 5)     # [1, 2, 3, 5]\n",
        "\n",
        "# mengubah elemen di indeks ke-3\n",
        "numbers[3] = 4          # [1, 2, 3, 4]\n",
        "\n",
        "# menghapus elemen di indeks ke-2\n",
        "numbers.pop(2)          # [1, 2, 4]\n",
        "\n",
        "\n",
        "print(\"Awalnya:\", numbers)   # List baru dibuat\n",
        "print(\"Setelah insert(3, 5):\", numbers)   # Elemen 5 ditambahkan di akhir list\n",
        "print(\"Setelah numbers[3] = 4:\", numbers)   # Elemen terakhir (5) diganti dengan 3 dan 4\n",
        "print(\"Setelah pop(2):\", numbers)   # Elemen di indeks ke-2 (yaitu angka 3) dihapus"
      ],
      "metadata": {
        "id": "eWzz-TrgAJBh",
        "colab": {
          "base_uri": "https://localhost:8080/"
        },
        "outputId": "813a86a6-6479-46b0-ca50-1656e1d28aae"
      },
      "execution_count": null,
      "outputs": [
        {
          "output_type": "stream",
          "name": "stdout",
          "text": [
            "Awalnya: [1, 2, 4]\n",
            "Setelah insert(3, 5): [1, 2, 4]\n",
            "Setelah numbers[3] = 4: [1, 2, 4]\n",
            "Setelah pop(2): [1, 2, 4]\n"
          ]
        }
      ]
    },
    {
      "cell_type": "code",
      "source": [
        "Latihan 3\n",
        "# deklarasi variabel list\n",
        "myList = [1, \"Rumah\", 4.5, True, [\"Kamar mandi\", \"Kamar tidur\"]]\n",
        "\n",
        "# cara mengakses elemen dalam variabel list\n",
        "myList[0]   # 1\n",
        "myList[1]   # Rumah\n",
        "myList[2]   # True\n",
        "myList[3]   # [\"Kamar mandi\", \"Kamar tidur\"]\n",
        "\n",
        "# cara mengakses elemen dalam sublist\n",
        "myList[4][0]   # \"Kamar mandi\"\n",
        "myList[4][1]   # \"Kamar tidur\"\n",
        "\n",
        "#lakukan print lalu amati hasilnya\n",
        "print(myList)\n",
        "print(myList[0])\n",
        "print(myList[1])\n",
        "print(myList[2])\n",
        "print(myList[3])\n",
        "print(myList[4])\n",
        "print(myList[4][0])\n",
        "print(myList[4][1])"
      ],
      "metadata": {
        "id": "8bUDcls8B7Tn",
        "colab": {
          "base_uri": "https://localhost:8080/"
        },
        "outputId": "277fb371-f57e-4093-9262-d1e5fbad4361"
      },
      "execution_count": null,
      "outputs": [
        {
          "output_type": "stream",
          "name": "stdout",
          "text": [
            "[1, 'Rumah', 4.5, True, ['Kamar mandi', 'Kamar tidur']]\n",
            "1\n",
            "Rumah\n",
            "4.5\n",
            "True\n",
            "['Kamar mandi', 'Kamar tidur']\n",
            "Kamar mandi\n",
            "Kamar tidur\n"
          ]
        }
      ]
    },
    {
      "cell_type": "code",
      "source": [
        "x = [\"laptop\", \"monitor\", \"mouse\", \"mousepad\", \"keyboard\", \"webcam\", \"microphone\"]\n",
        "\n",
        "print(x[0:5:2])\n",
        "print(x[1:])\n",
        "print(x[:3])"
      ],
      "metadata": {
        "colab": {
          "base_uri": "https://localhost:8080/"
        },
        "id": "xWuMraKiDTEx",
        "outputId": "bca76c45-4f5e-4ead-8676-32ca7c1490b9"
      },
      "execution_count": null,
      "outputs": [
        {
          "output_type": "stream",
          "name": "stdout",
          "text": [
            "['laptop', 'mouse', 'keyboard']\n",
            "['monitor', 'mouse', 'mousepad', 'keyboard', 'webcam', 'microphone']\n",
            "['laptop', 'monitor', 'mouse']\n"
          ]
        }
      ]
    },
    {
      "cell_type": "code",
      "source": [
        "Latihan 4\n",
        "# deklarasi variabel tuple\n",
        "numbers = (23, 43, 15, 34)\n",
        "\n",
        "# cara mengakses elemen dalam variabel tuple\n",
        "numbers[0]     # 23\n",
        "numbers[1]     # 43\n",
        "numbers[2]     # 15\n",
        "numbers[3]     # 34\n",
        "\n",
        "print(\"variabel tuple:\", numbers)\n",
        "print(\"numbers[0] =\", numbers[0])\n",
        "print(\"numbers[1] =\", numbers[1])\n",
        "print(\"numbers[2] =\", numbers[1])\n",
        "print(\"numbers[3] =\", numbers[3])\n",
        "\n",
        "#lakukan print lalu amati hasilnya"
      ],
      "metadata": {
        "id": "2VfdL44VDxgo",
        "colab": {
          "base_uri": "https://localhost:8080/"
        },
        "outputId": "ac97e292-e75b-49b5-93c9-ffb707e309f5"
      },
      "execution_count": null,
      "outputs": [
        {
          "output_type": "stream",
          "name": "stdout",
          "text": [
            "variabel tuple: (23, 43, 15, 34)\n",
            "numbers[0] = 23\n",
            "numbers[1] = 43\n",
            "numbers[2] = 43\n",
            "numbers[3] = 34\n"
          ]
        }
      ]
    },
    {
      "cell_type": "code",
      "source": [
        "Latihan 5\n",
        "# deklarasi variabel gabungan a dan b\n",
        "a = {1, 2, 3}\n",
        "b = {2, 3, 4}\n",
        "\n",
        "# operasi gabungan\n",
        "a.union(b)   # {1, 2, 3, 4}\n",
        "\n",
        "# operasi irisan\n",
        "a.intersection(b)    # {2, 3}\n",
        "intersection_ab\n",
        "\n",
        "# operasi perbedaan\n",
        "a.symmetric_difference(b)   # {1, 4}\n",
        "symmetric_difference_ab\n",
        "\n",
        "#lakukan print dan lihat hasilnya\n",
        "print(\"Set a:\", a)\n",
        "print(\"Set b:\", b)\n",
        "print(\"a.union(b):\", a.union(b))\n",
        "print(\"a.intersection(b):\", intersection_ab)\n",
        "print(\"a.symmetric_difference(b):\", symmetric_difference_ab)"
      ],
      "metadata": {
        "id": "FqROAC4NEY7Q",
        "colab": {
          "base_uri": "https://localhost:8080/"
        },
        "outputId": "15141fb8-3026-4d3e-9b57-20568112356e"
      },
      "execution_count": null,
      "outputs": [
        {
          "output_type": "stream",
          "name": "stdout",
          "text": [
            "Set a: {1, 2, 3}\n",
            "Set b: {2, 3, 4}\n",
            "a.union(b): {1, 2, 3, 4}\n",
            "a.intersection(b): {2, 3}\n",
            "a.symmetric_difference(b): {1, 4}\n"
          ]
        }
      ]
    },
    {
      "cell_type": "code",
      "source": [
        "Latihan 6\n",
        "# deklarasi variabel dictionary\n",
        "propertyDetail = {\"numFloors\": 1, \"PropertyType\": \"Rumah\", \"hasTerrace\": True, \"hasGarage\": False}\n",
        "\n",
        "# cara mengakses elemen dalam variabel dictionary\n",
        "propertyDetail[\"numFloors\"]       # 1\n",
        "propertyDetail[\"PropertyType\"]    # Rumah\n",
        "propertyDetail[\"hasTerrace\"]      # True\n",
        "propertyDetail[\"hasGarage\"]       # False\n",
        "\n",
        "# cara mengubah nilai elemen dalam variabel dictionary\n",
        "propertyDetail[\"hasTerrace\"] = False\n",
        "propertyDetail[\"hasTerrace\"]       # False\n",
        "\n",
        "#print(propertyDetail[\"propertyType\"])\n",
        "\n",
        "#lakukan print lalu amati hasilnya\n",
        "print(\"Dictionary awal:\", propertyDetail)\n",
        "print(\"propertyDetail[\\\"numFloors\\\"] =\", propertyDetail[\"numFloors\"])\n",
        "print(\"Jumlah lantai:\", propertyDetail[\"numFloors\"])       # 1\n",
        "print(\"Tipe properti:\", propertyDetail[\"PropertyType\"])    # Rumah\n",
        "print(\"Ada teras?:\", propertyDetail[\"hasTerrace\"])         # True\n",
        "print(\"Ada garasi?:\", propertyDetail[\"hasGarage\"])         # False\n",
        "print(\"Dictionary setelah diubah:\", propertyDetail)"
      ],
      "metadata": {
        "id": "ia3cqdVkFtOP",
        "colab": {
          "base_uri": "https://localhost:8080/"
        },
        "outputId": "474f212d-fee2-470d-df27-64c5d7ded621"
      },
      "execution_count": null,
      "outputs": [
        {
          "output_type": "stream",
          "name": "stdout",
          "text": [
            "Dictionary awal: {'numFloors': 1, 'PropertyType': 'Rumah', 'hasTerrace': False, 'hasGarage': False}\n",
            "propertyDetail[\"numFloors\"] = 1\n",
            "Jumlah lantai: 1\n",
            "Tipe properti: Rumah\n",
            "Ada teras?: False\n",
            "Ada garasi?: False\n",
            "Dictionary setelah diubah: {'numFloors': 1, 'PropertyType': 'Rumah', 'hasTerrace': False, 'hasGarage': False}\n"
          ]
        }
      ]
    }
  ]
}