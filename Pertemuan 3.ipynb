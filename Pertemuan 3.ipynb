{
  "nbformat": 4,
  "nbformat_minor": 0,
  "metadata": {
    "colab": {
      "provenance": [],
      "authorship_tag": "ABX9TyNrkC4s4YwgKu6rLoeW48H/",
      "include_colab_link": true
    },
    "kernelspec": {
      "name": "python3",
      "display_name": "Python 3"
    },
    "language_info": {
      "name": "python"
    }
  },
  "cells": [
    {
      "cell_type": "markdown",
      "metadata": {
        "id": "view-in-github",
        "colab_type": "text"
      },
      "source": [
        "<a href=\"https://colab.research.google.com/github/Putri-andini-rpe/Pemrograman-Dasar/blob/main/Pertemuan%203.ipynb\" target=\"_parent\"><img src=\"https://colab.research.google.com/assets/colab-badge.svg\" alt=\"Open In Colab\"/></a>"
      ]
    },
    {
      "cell_type": "code",
      "execution_count": 3,
      "metadata": {
        "colab": {
          "base_uri": "https://localhost:8080/"
        },
        "id": "Z2F6LGbUf8tI",
        "outputId": "1b8b8680-a6c4-44ef-d904-0b6e71643529"
      },
      "outputs": [
        {
          "name": "stdout",
          "output_type": "stream",
          "text": [
            "Berapa porsi makan yang anda beli? :3.5\n",
            "Siapa nama pelanggan? : Putri Andini\n",
            "Berapa tinggi badanmu? :160.0\n",
            "Berapa berat badanmu? :58.0\n",
            "Berapa jam lamanya kamu bermain game? :2\n",
            "Berapa jam lamanya kamu jogging? :2.5\n"
          ]
        }
      ],
      "source": [
        "Total        = float (input(\"Berapa porsi makan yang anda beli? :\"))\n",
        "Nama         = str (input(\"Siapa nama pelanggan? : \"))\n",
        "Tinggi_badan = float (input(\"Berapa tinggi badanmu? :\"))\n",
        "Berat_badan  = float (input(\"Berapa berat badanmu? :\"))\n",
        "Bermain_game = float (input(\"Berapa jam lamanya kamu bermain game? :\"))\n",
        "Joging       = float (input(\"Berapa jam lamanya kamu jogging? :\"))"
      ]
    },
    {
      "cell_type": "code",
      "source": [
        "food = \"Richeese\"\n",
        "drink = \"Juz Alpukat\"\n",
        "dessert = \"Puding\"\n",
        "durasi_pengantaran_gofood = 2\n",
        "durasi_membuat_dessert = 3\n",
        "hex_pengantaran = hex(durasi_pengantaran_gofood)\n",
        "durasi_octal = oct(durasi_membuat_dessert)\n",
        "\n",
        "print(\"Andini sedang memesan\", food)\n",
        "print(\"Jejes sedang meminum \"+ drink)\n",
        "print(\"salsa sedang membuat %s\" % (dessert))\n",
        "print(\"Berapa lama pesanan andini sampai ke tujuan? %.1f\" % (durasi_pengantaran_gofood), \"jam\")\n",
        "print(\"Berapa lama salsa membuat pudding coklat? %.1f\" % (durasi_membuat_dessert), \"jam\")\n",
        "print(\"Durasi pengantaran\", durasi_pengantaran_gofood,\"-> %.x :\",hex_pengantaran)\n",
        "print(\"Durasi membuat dessert (oktal):\", durasi_octal)\n"
      ],
      "metadata": {
        "colab": {
          "base_uri": "https://localhost:8080/"
        },
        "id": "14aeEgSgo4my",
        "outputId": "d5cd1c61-c7b0-4a0d-bcd4-feb9b71ad1a5"
      },
      "execution_count": 60,
      "outputs": [
        {
          "output_type": "stream",
          "name": "stdout",
          "text": [
            "Andini sedang memesan Richeese\n",
            "Jejes sedang meminum Juz Alpukat\n",
            "salsa sedang membuat Puding\n",
            "Berapa lama pesanan andini sampai ke tujuan? 2.0 jam\n",
            "Berapa lama salsa membuat pudding coklat? 3.0 jam\n",
            "Durasi pengantaran 2 -> %.x : 0x2\n",
            "Durasi membuat dessert (oktal): 0o3\n"
          ]
        }
      ]
    },
    {
      "cell_type": "code",
      "source": [
        "# Kalkulator Sederhana\n",
        "a = 20\n",
        "b = 5\n",
        "\n",
        "print(\"Penjumlahan:\", a+b)\n",
        "print(\"Pengurangan:\", a-b)\n",
        "print(\"Perkalian:\", a*b)\n",
        "print(\"Pembagian:\", a/b)"
      ],
      "metadata": {
        "colab": {
          "base_uri": "https://localhost:8080/"
        },
        "id": "5IzAtD5cpO_J",
        "outputId": "7b6f7cea-f36d-4df9-b4a0-04501235d033"
      },
      "execution_count": 9,
      "outputs": [
        {
          "output_type": "stream",
          "name": "stdout",
          "text": [
            "Penjumlahan: 25\n",
            "Pengurangan: 15\n",
            "Perkalian: 100\n",
            "Pembagian: 4.0\n"
          ]
        }
      ]
    },
    {
      "cell_type": "code",
      "source": [
        "#Mengecek Bilangan\n",
        "bilangan = 8\n",
        "hasil = (bilangan > 0) and (bilangan % 2 == 0)\n",
        "print(\"Genap dan positif?\", hasil)\n",
        "\n",
        "bilangan = 20\n",
        "hasil = (bilangan < -20) and (bilangan % 2 == 0)\n",
        "print(\"Genap dan positif?\", hasil)"
      ],
      "metadata": {
        "colab": {
          "base_uri": "https://localhost:8080/"
        },
        "id": "32QRTXuNq5mD",
        "outputId": "ffcc9713-8f49-4d29-924f-989132b8cdca"
      },
      "execution_count": 17,
      "outputs": [
        {
          "output_type": "stream",
          "name": "stdout",
          "text": [
            "Genap dan positif? True\n",
            "Genap dan positif? False\n"
          ]
        }
      ]
    },
    {
      "cell_type": "code",
      "source": [
        "# Kalkulator Kasir\n",
        "harga_makan = int(input(\"Berapa harga mie ayam per porsi? \"))\n",
        "jumlah_makan = int(input(\"Berapa porsi yang anda beli? \"))\n",
        "total_makan = harga_makan * jumlah_makan\n",
        "\n",
        "print(f\"Harga makan per porsi = {harga_makan}\")\n",
        "print(f\"Jumlah yang dibeli = {jumlah_makan}\")\n",
        "print(f\"Total yang harus dibayar = {total_makan}\")"
      ],
      "metadata": {
        "colab": {
          "base_uri": "https://localhost:8080/"
        },
        "id": "OQ9EY92hrlrD",
        "outputId": "af7eed6c-7dfc-4b61-a74b-e076fabe6fd5"
      },
      "execution_count": 14,
      "outputs": [
        {
          "output_type": "stream",
          "name": "stdout",
          "text": [
            "Berapa harga mie ayam per porsi? 25000\n",
            "Berapa porsi yang anda beli? 4\n",
            "Harga makan per porsi = 25000\n",
            "Jumlah yang dibeli = 4\n",
            "Total yang harus dibayar = 100000\n"
          ]
        }
      ]
    },
    {
      "cell_type": "code",
      "source": [
        "# Konversi Waktu\n",
        "total_detik = 3600\n",
        "jam = total_detik // 3600\n",
        "sisa_detik = total_detik % 3600\n",
        "menit = sisa_detik // 6\n",
        "detik = sisa_detik % 60\n",
        "total_detik = int(input(\"Total_Detik\"))\n",
        "\n",
        "print(f\"Hasil Konversi: {jam} jam, {menit} menit, {detik} detik\")"
      ],
      "metadata": {
        "colab": {
          "base_uri": "https://localhost:8080/"
        },
        "id": "_Ly1TzmHstIj",
        "outputId": "dcc2e9a4-f0a7-4777-b979-4ce8e86abd64"
      },
      "execution_count": 16,
      "outputs": [
        {
          "output_type": "stream",
          "name": "stdout",
          "text": [
            "Total_Detik358200\n",
            "Hasil Konversi: 1 jam, 0 menit, 0 detik\n"
          ]
        }
      ]
    },
    {
      "cell_type": "code",
      "source": [
        "tugas = 80\n",
        "uts = 70\n",
        "uas = 90\n",
        "nilai_akhir = (0.3 * tugas) + ( 0.4 * uas)\n",
        "\n",
        "print(\"Nilai akhir -\", nilai_akhir)\n"
      ],
      "metadata": {
        "colab": {
          "base_uri": "https://localhost:8080/"
        },
        "id": "0qkrJuzI3Kjs",
        "outputId": "fcd7bb4a-3492-4057-d922-0aaff7bc2f36"
      },
      "execution_count": 61,
      "outputs": [
        {
          "output_type": "stream",
          "name": "stdout",
          "text": [
            "Nilai akhir - 60.0\n"
          ]
        }
      ]
    },
    {
      "cell_type": "code",
      "source": [
        "nilai_mahasiswa = 3.8\n",
        "standar_kelulusan = 3.0\n",
        "apakah_lulus = nilai_mahasiswa >= standar_kelulusan\n",
        "perlu_remedial = nilai_mahasiswa < standar_kelulusan\n",
        "\n",
        "#modifikasi\n",
        "nilai_mahasiswa = float(input(\"Nilai Mahasiswa:\"))\n",
        "standar_kelulusan = float(input(\"Standar Kelulusan:\"))\n",
        "apakah_lulus = nilai_mahasiswa >= standar_kelulusan\n",
        "perlu_remedial = nilai_mahasiswa < standar_kelulusan\n",
        "\n",
        "\n",
        "print(f\"Nilai Mahasiswa: {nilai_mahasiswa}\")\n",
        "print(f\"Standar Kelulusan: {standar_kelulusan}\")\n",
        "print(f\"Apakah Mahasiswa Lulus? {apakah_lulus}\")\n",
        "print(f\"Perlu Remedial? {perlu_remedial}\")"
      ],
      "metadata": {
        "colab": {
          "base_uri": "https://localhost:8080/"
        },
        "id": "jmatfATB5EPY",
        "outputId": "f46625e1-874d-4709-f60e-f913b4cea9ba"
      },
      "execution_count": 63,
      "outputs": [
        {
          "output_type": "stream",
          "name": "stdout",
          "text": [
            "Nilai Mahasiswa:3.8\n",
            "Standar Kelulusan:3.0\n",
            "Nilai Mahasiswa: 3.8\n",
            "Standar Kelulusan: 3.0\n",
            "Apakah Mahasiswa Lulus? True\n",
            "Perlu Remedial? False\n"
          ]
        }
      ]
    }
  ]
}