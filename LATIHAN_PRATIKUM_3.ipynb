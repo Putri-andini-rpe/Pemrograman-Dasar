{
  "nbformat": 4,
  "nbformat_minor": 0,
  "metadata": {
    "colab": {
      "provenance": [],
      "authorship_tag": "ABX9TyOeKSRPY2oqCZlFNB4PG2sa",
      "include_colab_link": true
    },
    "kernelspec": {
      "name": "python3",
      "display_name": "Python 3"
    },
    "language_info": {
      "name": "python"
    }
  },
  "cells": [
    {
      "cell_type": "markdown",
      "metadata": {
        "id": "view-in-github",
        "colab_type": "text"
      },
      "source": [
        "<a href=\"https://colab.research.google.com/github/Putri-andini-rpe/Pemrograman-Dasar/blob/main/LATIHAN_PRATIKUM_3.ipynb\" target=\"_parent\"><img src=\"https://colab.research.google.com/assets/colab-badge.svg\" alt=\"Open In Colab\"/></a>"
      ]
    },
    {
      "cell_type": "code",
      "execution_count": 4,
      "metadata": {
        "colab": {
          "base_uri": "https://localhost:8080/"
        },
        "id": "QrK0Q5I8RBGy",
        "outputId": "4b337ef9-2e68-4188-f88b-27f7b1d9b562"
      },
      "outputs": [
        {
          "output_type": "stream",
          "name": "stdout",
          "text": [
            "Masukkan tahun: 2008\n",
            "2008 adalah tahun kabisat.\n"
          ]
        }
      ],
      "source": [
        "# NOMOR 1 LAPRAK\n",
        "\n",
        "# studi kasus:\n",
        "# Sebuah tahun disebut tahun kabisat jika memenuhi salah satu dari dua kondisi berikut:\n",
        "#   a. Tahun tersebut habis dibagi 4, tetapi tidak habis dibagi 100\n",
        "#   b. Tahun tersebut habis dibagi 400\n",
        "# Buatlah sebuah ekspresi logika kompleks untuk menentukan apakah suatu tahun merupakan tahun kabisat.\n",
        "\n",
        "# Program menentukan tahun kabisat\n",
        "# Input dari user\n",
        "tahun = int(input(\"Masukkan tahun: \"))\n",
        "\n",
        "# Ekspresi logika kompleks\n",
        "kabisat = (tahun % 4 == 0 and tahun % 100 != 0) or (tahun % 400 == 0)\n",
        "bukan_kabisat = not kabisat # Simplified logic\n",
        "\n",
        "# Output hasil\n",
        "if kabisat:\n",
        "    print(f\"{tahun} adalah tahun kabisat.\")\n",
        "else: # Use else since it's either kabisat or not\n",
        "    print(f\"{tahun} bukan tahun kabisat.\")"
      ]
    },
    {
      "cell_type": "code",
      "source": [
        "#NOMOR 2 LAPRAK\n",
        "# 2. Buatlah program sederhana versi anda masing-masing dengan lingkup, fungsi input, fungsi output, dan operasi aritmatika\n",
        "#Jelaskan pada laporan\n",
        "\n",
        "# Program menghitung biaya operasional keberangkatan ke Singapore\n",
        "# Input_keberangkatan\n",
        "tiket_pp = float(input(\"Masukkan biaya tiket kapal PP (USD): \"))\n",
        "akomodasi = float(input(\"Masukkan biaya akomodasi hotel (USD): \"))\n",
        "hari = int(input(\"Berapa hari perjalanan? \"))\n",
        "banyak_penumpang = int(input(\"Banyak penumpang yang ikut: \")) # Changed to int and clearer prompt\n",
        "transportasi = float(input(\"Masukkan biaya transportasi lokal (USD): \"))\n",
        "shopping = float(input(\"Masukkan biaya belanja (USD): \"))\n",
        "uang_harian_per_orang = float(input(\"Masukkan uang saku harian per orang (USD): \")) # Added input for daily allowance\n",
        "\n",
        "# Proses (operasi aritmatika)\n",
        "total_uang_harian = uang_harian_per_orang * hari * banyak_penumpang # Calculate total daily allowance for all\n",
        "total_biaya_per_orang = (tiket_pp / banyak_penumpang) + (akomodasi / banyak_penumpang) + (transportasi / banyak_penumpang) + (shopping / banyak_penumpang) + (uang_harian_per_orang * hari) # Calculate cost per person\n",
        "total_biaya_keseluruhan = tiket_pp + akomodasi + transportasi + shopping + total_uang_harian # Calculate total cost\n",
        "\n",
        "# Output\n",
        "print(\"\\n=== Rincian Biaya Keberangkatan ===\")\n",
        "print(f\"Biaya tiket kapal PP      : {tiket_pp:,.2f} USD\")\n",
        "print(f\"Biaya akomodasi hotel     : {akomodasi:,.2f} USD\")\n",
        "print(f\"Banyak penumpang ({banyak_penumpang} orang) :\") # Display number of passengers\n",
        "print(f\"Biaya transportasi        : {transportasi:,.2f} USD\")\n",
        "print(f\"Biaya shopping            : {shopping:,.2f} USD\")\n",
        "print(f\"Uang saku harian per orang: {uang_harian_per_orang:,.2f} USD\")\n",
        "print(f\"Total uang saku           : {total_uang_harian:,.2f} USD\") # Display total daily allowance\n",
        "print(\"------------------------------------\")\n",
        "print(f\"Total biaya per orang     : {total_biaya_per_orang:,.2f} USD\") # Display cost per person\n",
        "print(f\"Total biaya keseluruhan   : {total_biaya_keseluruhan:,.2f} USD\") # Display total cost"
      ],
      "metadata": {
        "colab": {
          "base_uri": "https://localhost:8080/"
        },
        "id": "2x9d0buVRpfs",
        "outputId": "606a7218-30c6-430f-8fa1-841cba4c3825"
      },
      "execution_count": 6,
      "outputs": [
        {
          "output_type": "stream",
          "name": "stdout",
          "text": [
            "Masukkan biaya tiket kapal PP (USD): 62\n",
            "Masukkan biaya akomodasi hotel (USD): 93\n",
            "Berapa hari perjalanan? 7\n",
            "Banyak penumpang yang ikut: 12\n",
            "Masukkan biaya transportasi lokal (USD): 20\n",
            "Masukkan biaya belanja (USD): 775\n",
            "Masukkan uang saku harian per orang (USD): 3873\n",
            "\n",
            "=== Rincian Biaya Keberangkatan ===\n",
            "Biaya tiket kapal PP      : 62.00 USD\n",
            "Biaya akomodasi hotel     : 93.00 USD\n",
            "Banyak penumpang (12 orang) :\n",
            "Biaya transportasi        : 20.00 USD\n",
            "Biaya shopping            : 775.00 USD\n",
            "Uang saku harian per orang: 3,873.00 USD\n",
            "Total uang saku           : 325,332.00 USD\n",
            "------------------------------------\n",
            "Total biaya per orang     : 27,190.17 USD\n",
            "Total biaya keseluruhan   : 326,282.00 USD\n"
          ]
        }
      ]
    }
  ]
}