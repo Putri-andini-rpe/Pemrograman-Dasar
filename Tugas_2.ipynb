{
  "nbformat": 4,
  "nbformat_minor": 0,
  "metadata": {
    "colab": {
      "provenance": [],
      "authorship_tag": "ABX9TyNuD5jOUyL88edQBBURCbA7",
      "include_colab_link": true
    },
    "kernelspec": {
      "name": "python3",
      "display_name": "Python 3"
    },
    "language_info": {
      "name": "python"
    }
  },
  "cells": [
    {
      "cell_type": "markdown",
      "metadata": {
        "id": "view-in-github",
        "colab_type": "text"
      },
      "source": [
        "<a href=\"https://colab.research.google.com/github/Putri-andini-rpe/Pemrograman-Dasar/blob/main/Tugas_2.ipynb\" target=\"_parent\"><img src=\"https://colab.research.google.com/assets/colab-badge.svg\" alt=\"Open In Colab\"/></a>"
      ]
    },
    {
      "cell_type": "code",
      "execution_count": 1,
      "metadata": {
        "id": "SoZSu4OFIrNx",
        "colab": {
          "base_uri": "https://localhost:8080/"
        },
        "outputId": "ad284464-c08e-49ff-a63e-6bfdad55de10"
      },
      "outputs": [
        {
          "output_type": "stream",
          "name": "stdout",
          "text": [
            "===== BIODATA DIRI =====\n",
            "Nama depan: Putri\n",
            "Nama belakang: Andini\n",
            "umur: 20\n",
            "Status_pernikahan: False\n"
          ]
        }
      ],
      "source": [
        "\"\"\"\n",
        "\"Tugas 1\"\n",
        "\n",
        "Buatlah variabel firstname, lastname, age, isMarried dengan ketentuan:\n",
        "- firstName: isi dengan nama depan Anda bertipe data string.\n",
        "- lastName: isi dengan nama belakang Anda bertipe data string.\n",
        "- age: isi dengan umur Anda bertipe data integer.\n",
        "- isMarried: isi dengan status pernikahan Anda bertipe data boolean.\n",
        "Catatan:\n",
        "- Value variabel harus berupa nilai sesungguhnya (literal) seperti string,\n",
        "  bilangan bulat (integer), dan boolean (benar atau salah).\n",
        "\"\"\"\n",
        "\n",
        "# silahkan buat kode anda dibawah ini.\n",
        "# Gunakan Fungsi Print untuk mengecek hasilnya\n",
        "\n",
        "#Biodata Diri\n",
        "firstname: str = \"Putri\"\n",
        "lastname: str = \"Andini\"\n",
        "age: int = 20\n",
        "isMarried: bool = False\n",
        "\n",
        "print(\"===== BIODATA DIRI =====\")\n",
        "print(\"Nama depan:\",firstname)\n",
        "print(\"Nama belakang:\",lastname)\n",
        "print(\"umur:\",age)\n",
        "print(\"Status_pernikahan:\",isMarried)\n",
        "\n",
        "\n"
      ]
    },
    {
      "cell_type": "code",
      "source": [
        "\"\"\"\n",
        "Tugas Ke-2\n",
        "Buatlah variabel dictionary dengan nama \"data_diri\",\n",
        "variabel tersebut berisi identitas diri Anda berdasarkan ketentuan berikut.\n",
        "- Memiliki key bernama \"firsName\":\n",
        "    - Isi value dengan nama depan Anda, pastikan bertipe data string.\n",
        "- Memiliki key bernama \"lastName\":\n",
        "    - Isi value dengan nama terakhir Anda, pastikan bertipe data string.\n",
        "- Memiliki key bernama \"age\":\n",
        "    - Isi value dengan umur Anda, pastikan bertipe data integer.\n",
        "- Memiliki key bernama \"isMarried\":\n",
        "    - Isi value dengan status pernikahan Anda, pastikan bertipe data boolean.\n",
        "\n",
        "Catatan:\n",
        "- value pada dictionary harus berupa nilai sesungguhnya (literal) seperti string,\n",
        "  bilangan bulat (integer), dan boolean (benar atau salah).\n",
        "\"\"\"\n",
        "# silahkan buat kode anda dibawah ini.\n",
        "# Gunakan Fungsi Print untuk mengecek hasilnya\n",
        "# lalu jelaskan di Laporan\n",
        "\n",
        "#IDENTITAS DIRI\n",
        "data_diri = {\n",
        "    \"firstname\": \"Putri\",\n",
        "    \"lastname\": \"Andini\",\n",
        "    \"age\": 20,\n",
        "    \"isMarried\": False\n",
        "}\n",
        "\n",
        "print(\"Nama depan:\", data_diri[\"firstname\"])\n",
        "print(\"Nama belakang:\", data_diri[\"lastname\"])\n",
        "print(\"umur:\", data_diri[\"age\"])\n",
        "print(\"Status Pernikahan:\", data_diri[\"isMarried\"])"
      ],
      "metadata": {
        "id": "3F09rvWQJwox",
        "colab": {
          "base_uri": "https://localhost:8080/"
        },
        "outputId": "1163e74b-a405-45bf-e416-bd138523c206"
      },
      "execution_count": 18,
      "outputs": [
        {
          "output_type": "stream",
          "name": "stdout",
          "text": [
            "Nama depan: Putri\n",
            "Nama belakang: Andini\n",
            "umur: 20\n",
            "Status Pernikahan: False\n"
          ]
        }
      ]
    },
    {
      "cell_type": "code",
      "source": [
        "\"\"\"\n",
        "Tugas ke-3\n",
        "\n",
        "1. Buatlah variabel inspeksi bertipe data list untuk menyimpan daftar inspeksi dengan isian sebagai berikut.\n",
        "  - pemahaman terhadap rencana dan desain\n",
        "  - ketersediaan bahan dan peralatan\n",
        "  - pengawasan pekerjaan\n",
        "  - kualitas konstruksi\n",
        "  - keselamatan kerja\n",
        "  - koordinasi dengan pemilik proyek\n",
        "\"\"\"\n",
        "\n",
        "# Tulislah kode jawaban dibawah ini\n",
        "# Gunakan :\n",
        "#  - Fungsi Print untuk mengecek hasilnya\n",
        "#  - lalu jelaskan di Laporan\n",
        "\n",
        "# daftar inspeksi list\n",
        "inspeksi = [\n",
        "    \"pemahaman terhadap rencana dan desain\",\n",
        "    \"ketersediaan bahan dan peralatan\",\n",
        "    \"pengawasan pekerjaan\",\n",
        "    \"kualitas konstruksi\",\n",
        "    \"kekerasan kerja\",\n",
        "    \"koordinasi dengan pemilik proyek\"\n",
        "]\n",
        "\n",
        "print(\"===== Daftar Inspeksi Proyek =====\")\n",
        "for i, item in enumerate(inspeksi, start=1):\n",
        "    print(f\"{i}. {item}\")\n"
      ],
      "metadata": {
        "id": "CkhrP_KAKvSm",
        "colab": {
          "base_uri": "https://localhost:8080/"
        },
        "outputId": "52e1dcc1-136e-4013-bfc3-c01b4657aa9d"
      },
      "execution_count": 44,
      "outputs": [
        {
          "output_type": "stream",
          "name": "stdout",
          "text": [
            "===== Daftar Inspeksi Proyek =====\n",
            "1. pemahaman terhadap rencana dan desain\n",
            "2. ketersediaan bahan dan peralatan\n",
            "3. pengawasan pekerjaan\n",
            "4. kualitas konstruksi\n",
            "5. kekerasan kerja\n",
            "6. koordinasi dengan pemilik proyek\n"
          ]
        }
      ]
    },
    {
      "cell_type": "code",
      "metadata": {
        "colab": {
          "base_uri": "https://localhost:8080/"
        },
        "id": "338a88d7",
        "outputId": "d4443341-b838-4813-84c7-74aa07af6372"
      },
      "source": [
        "\"\"\"\n",
        "Tugas Ke-4\n",
        "1. Buatlah variabel startTime bertipe data dictionary sebagai waktu datang dengan kriteria berikut.\n",
        "   - key \"HH\" bernilai angka 9\n",
        "   - key \"mm\" bernilai angka 23\n",
        "   - key \"ss\" bernilai angka 57\n",
        "2. Buatlah variabel endTime bertipe data dictionary sebagai waktu pulang dengan kriteria berikut.\n",
        "   - key \"HH\" bernilai angka 15\n",
        "   - key \"mm\" bernilai angka 25\n",
        "   - key \"ss\" bernilai angka 43\n",
        "\"\"\"\n",
        "\n",
        "# Tulislah kode jawaban dibawah ini\n",
        "# Gunakan :\n",
        "#  - Fungsi Print() untuk mengecek hasilnya\n",
        "#  - lalu jelaskan di Laporan\n",
        "\n",
        "startTime = {\n",
        "    \"HH\": 9,\n",
        "    \"mm\": 23,\n",
        "    \"ss\": 57,\n",
        "}\n",
        "endTime = {\n",
        "    \"HH\": 15,\n",
        "    \"mm\": 25,\n",
        "    \"ss\": 43,\n",
        "}\n",
        "\n",
        "print(\"Waktu datang:\", startTime)\n",
        "print(\"Waktu pulang:\", endTime)"
      ],
      "execution_count": 43,
      "outputs": [
        {
          "output_type": "stream",
          "name": "stdout",
          "text": [
            "Waktu datang: {'HH': 9, 'mm': 23, 'ss': 57}\n",
            "Waktu pulang: {'HH': 15, 'mm': 25, 'ss': 43}\n"
          ]
        }
      ]
    },
    {
      "cell_type": "code",
      "source": [
        "\"\"\"\n",
        "Tugas ke-5\n",
        "#STUDI KASUS : PENGGABUNGAN DAN ANALISIS KATALOG PRODUK\n",
        "# Skenario: Dua pemasok memberikan katalog produk mereka dalam bentuk 'set'.\n",
        "# Anda juga memiliki daftar produk yang sedang dalam diskon dalam bentuk 'tuple'.\n",
        "#\n",
        "# Tugas:\n",
        "# 1. Gabungkan 'katalog_A' dan 'katalog_B\" menjadi satu 'set' bernama\n",
        "#    'katalog_lengkap' yang berisi semua produk unik.\n",
        "# 2. Cari produk mana saja dari 'katalog_lengkap' yang juga ada di\n",
        "#    'produk_disko'. Simpan hasilnya dalam variabel 'produk_promo_aktif'.\n",
        "#    (Gunakan operasi 'intersection' pada set).\n",
        "\"\"\"\n",
        "\n",
        "# Silahkan buat kode anda dibawah ini.\n",
        "# Gunakan Fungsi Print() untuk mengecek hasilnya\n",
        "# lalu jelaskan di Laporan\n",
        "\n",
        "#Penggabungan dan Analisis Katalog Produk\n",
        "katalog_A = {\"nasi goreng\",\"mie ayam\",\"ayam penyet\"}\n",
        "katalog_B = {\"mesin waktu\",\"alat pembawa kebahagiaan\",\"alat pengubah masa lalu\"}\n",
        "produk_diskon = (\"nasi goreng\",\"mie ayam\",\"ayam penyet\")\n",
        "\n",
        "\n",
        "print(\"===== Penggabungan Analisis Katalog Produk =====\")\n",
        "katalog_lengkap = katalog_A.union(katalog_B)\n",
        "print(\"katalog lengkap: \",katalog_lengkap)\n",
        "\n",
        "produk_promo_aktif = katalog_lengkap.intersection(set(produk_diskon))\n",
        "print(\"produk promo aktif :\",produk_promo_aktif)"
      ],
      "metadata": {
        "id": "G9tj4e6JNV8M",
        "colab": {
          "base_uri": "https://localhost:8080/"
        },
        "outputId": "b6b3a1d4-ddcb-4da8-db25-dac75c5c26aa"
      },
      "execution_count": 46,
      "outputs": [
        {
          "output_type": "stream",
          "name": "stdout",
          "text": [
            "===== Penggabungan Analisis Katalog Produk =====\n",
            "katalog lengkap:  {'alat pembawa kebahagiaan', 'ayam penyet', 'mesin waktu', 'mie ayam', 'alat pengubah masa lalu', 'nasi goreng'}\n",
            "produk promo aktif : {'ayam penyet', 'mie ayam', 'nasi goreng'}\n"
          ]
        }
      ]
    }
  ]
}