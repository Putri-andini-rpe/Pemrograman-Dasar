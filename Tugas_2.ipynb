{
  "nbformat": 4,
  "nbformat_minor": 0,
  "metadata": {
    "colab": {
      "provenance": [],
      "authorship_tag": "ABX9TyObrH/VqbjaOcpcrkW4nP1U",
      "include_colab_link": true
    },
    "kernelspec": {
      "name": "python3",
      "display_name": "Python 3"
    },
    "language_info": {
      "name": "python"
    }
  },
  "cells": [
    {
      "cell_type": "markdown",
      "metadata": {
        "id": "view-in-github",
        "colab_type": "text"
      },
      "source": [
        "<a href=\"https://colab.research.google.com/github/Putri-andini-rpe/Pemrograman-Dasar/blob/main/Tugas_2.ipynb\" target=\"_parent\"><img src=\"https://colab.research.google.com/assets/colab-badge.svg\" alt=\"Open In Colab\"/></a>"
      ]
    },
    {
      "cell_type": "code",
      "execution_count": null,
      "metadata": {
        "id": "SoZSu4OFIrNx"
      },
      "outputs": [],
      "source": [
        "\"\"\"\n",
        "\n",
        "Buatlah variabel firstname, lastname, age, isMarried dengan ketentuan:\n",
        "- firstName: isi dengan nama depan Anda bertipe data string.\n",
        "- lastName: isi dengan nama belakang Anda bertipe data string.\n",
        "- age: isi dengan umur Anda bertipe data integer.\n",
        "- isMarried: isi dengan status pernikahan Anda bertipe data boolean.\n",
        "\n",
        "Catatan:\n",
        "- Value variabel harus berupa nilai sesungguhnya (literal) seperti string,\n",
        "  bilangan bulat (integer), dan boolean (benar atau salah).\n",
        "\"\"\"\n",
        "\n",
        "# silahkan buat kode anda dibawah ini.\n",
        "# Gunakan Fungsi Print untuk mengecek hasilnya\n",
        "lalu jelaskan di Laporan"
      ]
    },
    {
      "cell_type": "code",
      "source": [
        "Buatlah variabel dictionary dengan nama \"data_diri\",\n",
        "variabel tersebut berisi identitas diri Anda berdasarkan ketentuan berikut.\n",
        "- Memiliki key bernama \"firsName\":\n",
        "    - Isi value dengan nama depan Anda, pastikan bertipe data string.\n",
        "- Memiliki key bernama \"lastName\":\n",
        "    - Isi value dengan nama terakhir Anda, pastikan bertipe data string.\n",
        "- Memiliki key bernama \"age\":\n",
        "    - Isi value dengan umur Anda, pastikan bertipe data integer.\n",
        "- Memiliki key bernama \"isMarried\":\n",
        "    - Isi value dengan status pernikahan Anda, pastikan bertipe data boolean.\n",
        "\n",
        "Catatan:\n",
        "- value pada dictionary harus berupa nilai sesungguhnya (literal) seperti string,\n",
        "  bilangan bulat (integer), dan boolean (benar atau salah).\n",
        "\"\"\"\n",
        "\n",
        "# silahkan buat kode anda dibawah ini.\n",
        "# Gunakan Fungsi Print untuk mengecek hasilnya\n",
        "lalu jelaskan di Laporan"
      ],
      "metadata": {
        "id": "3F09rvWQJwox"
      },
      "execution_count": null,
      "outputs": []
    },
    {
      "cell_type": "code",
      "source": [
        "1. Buatlah variabel inspeksi bertipe data list untuk menyimpan daftar inspeksi dengan isian sebagai berikut.\n",
        "  - pemahaman terhadap rencana dan desain\n",
        "  - ketersediaan bahan dan peralatan\n",
        "  - pengawasan pekerjaan\n",
        "  - kualitas konstruksi\n",
        "  - keselamatan kerja\n",
        "  - koordinasi dengan pemilik proyek\n",
        "\"\"\"\n",
        "\n",
        "# Tulislah kode jawaban dibawah ini\n",
        "Gunakan :\n",
        " - Fungsi Print untuk mengecek hasilnya\n",
        " - lalu jelaskan di Laporan"
      ],
      "metadata": {
        "id": "CkhrP_KAKvSm"
      },
      "execution_count": null,
      "outputs": []
    },
    {
      "cell_type": "code",
      "source": [
        "\"\"\"\n",
        "1. Buatlah variabel startTime bertipe data dictionary sebagai waktu datang dengan kriteria berikut.\n",
        "   - key \"HH\" bernilai angka 9\n",
        "   - key \"mm\" bernilai angka 23\n",
        "   - key \"ss\" bernilai angka 57\n",
        "2. Buatlah variabel endTime bertipe data dictionary sebagai waktu pulang dengan kriteria berikut.\n",
        "   - key \"HH\" bernilai angka 15\n",
        "   - key \"mm\" bernilai angka 25\n",
        "   - key \"ss\" bernilai angka 43\n",
        "\"\"\"\n",
        "\n",
        "# Tulislah kode jawaban dibawah ini\n",
        "Gunakan :\n",
        " - Fungsi Print() untuk mengecek hasilnya\n",
        " - lalu jelaskan di Laporan"
      ],
      "metadata": {
        "id": "2rcUK5bQMCTb"
      },
      "execution_count": null,
      "outputs": []
    },
    {
      "cell_type": "code",
      "source": [
        "# STUDI KASUS : PENGGABUNGAN DAN ANALISISKATALOG PRODUK\n",
        "#\n",
        "# Skenario: Dua pemasok memberikan katalog produk mereka dalam bentuk 'set'.\n",
        "# Anda juga memiliki daftar produk yang sedang dalam diskon dalam bentuk 'tuple'.\n",
        "#\n",
        "# Tugas:\n",
        "# 1. Gabungkan 'katalog_A' dan 'katalog_B\" menjadi satu 'set' bernama\n",
        "#    'katalog_lengkap' yang berisi semua produk unik.\n",
        "# 2. Cari produk mana saja dari 'katalog_lengkap' yang juga ada di\n",
        "#    'produk_disko'. Simpan hasilnya dalam variabel 'produk_promo_aktif'.\n",
        "#    (Gunakan operasi 'intersection' pada set).\n",
        "\n",
        "\n",
        "\"\"\"\n",
        "# Silahkan buat kode anda dibawah ini.\n",
        "# Gunakan Fungsi Print() untuk mengecek hasilnya\n",
        "lalu jelaskan di Laporan"
      ],
      "metadata": {
        "id": "G9tj4e6JNV8M"
      },
      "execution_count": null,
      "outputs": []
    }
  ]
}