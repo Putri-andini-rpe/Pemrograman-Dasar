{
  "nbformat": 4,
  "nbformat_minor": 0,
  "metadata": {
    "colab": {
      "provenance": [],
      "authorship_tag": "ABX9TyNCB2+aWEU/0ncjW2iqVcju",
      "include_colab_link": true
    },
    "kernelspec": {
      "name": "python3",
      "display_name": "Python 3"
    },
    "language_info": {
      "name": "python"
    }
  },
  "cells": [
    {
      "cell_type": "markdown",
      "metadata": {
        "id": "view-in-github",
        "colab_type": "text"
      },
      "source": [
        "<a href=\"https://colab.research.google.com/github/Putri-andini-rpe/Pemrograman-Dasar/blob/main/Tugas_3ipynb.ipynb\" target=\"_parent\"><img src=\"https://colab.research.google.com/assets/colab-badge.svg\" alt=\"Open In Colab\"/></a>"
      ]
    },
    {
      "cell_type": "code",
      "execution_count": null,
      "metadata": {
        "colab": {
          "base_uri": "https://localhost:8080/"
        },
        "id": "QkbuSbScRx44",
        "outputId": "f2715cae-2409-493c-deb3-d2722f33adbf"
      },
      "outputs": [
        {
          "output_type": "stream",
          "name": "stdout",
          "text": [
            "Masukkan jumlah item yang dibeli: 7\n",
            "Masukkan harga item ke-1: Rp 850000\n",
            "Masukkan harga item ke-2: Rp 150000\n",
            "Masukkan harga item ke-3: Rp 950000\n",
            "Masukkan harga item ke-4: Rp 1280354\n",
            "Masukkan harga item ke-5: Rp 568790\n",
            "Masukkan harga item ke-6: Rp 109089\n",
            "Masukkan harga item ke-7: Rp 456709\n",
            "Apakah pelanggan adalah member? (ya/tidak): ya\n",
            "\n",
            "=== STRUK PEMBAYARAN ===\n",
            "Subtotal              : Rp 4,364,942\n",
            "Diskon                : Rp 654,741\n",
            "Harga Setelah Diskon  : Rp 3,710,201\n",
            "PPN (11%)             : Rp 408,122\n",
            "TOTAL AKHIR           : Rp 4,118,323\n"
          ]
        }
      ],
      "source": [
        "# TUGAS\n",
        "# Program kasir sederhana\n",
        "# Buatlah sebuah program python untuk mensimulasikan perhitungan total belanja di sebuah kedai kopi.\n",
        "# Deskripsi Skenario\n",
        "\n",
        "# Seorang pelanggan membeli beberapa item di kedai kopi . Program anda harus menghitung total belanja setelah dikenai diskon (jika memenuhi syarat) dan Pajak Pertambahan Nilai (PPN)\n",
        "# Ketentuan:\n",
        "  # 1. Diskon : Pelaanggan mendapatkan diskon 15% jika ia  adalah seorang anggota (member) Dan total belanjanya (Subtotal) melebihi Rp.100.000.000\n",
        "  # 2. PPN:PPN sebesar 11% dikenakan pada harga setelah dipotong diskon.\n",
        "  # Data Input (Variabel)\n",
        "\n",
        "  # Langkah-langkah pengerjaan\n",
        "  # 1. Hitung subtotal : Buat ekspresi untuk menghitung total harga dari semua item yang dibeli\n",
        "  # 2. Evaluasi Syarat Diskon : Buat ekspresi logika untuk menentukan apakah pelanggan berhak mendapatkan diskon atau tidak\n",
        "  # 3. Hitung jumlah diskon : Buat ekspresi untuk menghitung besaran diskon dalam Rupiah. Jika tidak ada diskon, nilainya adalah 0\n",
        "  # 4. Hitung harga setelah diskon: Kurangi subtotal dengan jumlah diskon yang didapat.\n",
        "  # 5. Hitung PPN: Hitung 11% dari harga setelah diskon\n",
        "  # 6. Hitung total akhir : Tambahkan harga setelah diskon dengan PPN\n",
        "\n",
        "  # Jelaskan pada laporan\n",
        "\n",
        "jumlah_item = int(input(\"Masukkan jumlah item yang dibeli: \"))\n",
        "subtotal = 0\n",
        "for i in range(jumlah_item):\n",
        "    harga = float(input(f\"Masukkan harga item ke-{i+1}: Rp \"))\n",
        "    subtotal += harga\n",
        "member = input(\"Apakah pelanggan adalah member? (ya/tidak): \").lower()\n",
        "diskon = 0\n",
        "if member == \"ya\" and subtotal > 100000:\n",
        "    diskon = 0.15 * subtotal\n",
        "harga_setelah_diskon = subtotal - diskon\n",
        "ppn = 0.11 * harga_setelah_diskon\n",
        "total_akhir = harga_setelah_diskon + ppn\n",
        "\n",
        "\n",
        "print(\"\\n=== STRUK PEMBAYARAN ===\")\n",
        "print(f\"Subtotal              : Rp {subtotal:,.0f}\")\n",
        "print(f\"Diskon                : Rp {diskon:,.0f}\")\n",
        "print(f\"Harga Setelah Diskon  : Rp {harga_setelah_diskon:,.0f}\")\n",
        "print(f\"PPN (11%)             : Rp {ppn:,.0f}\")\n",
        "print(f\"TOTAL AKHIR           : Rp {total_akhir:,.0f}\")"
      ]
    }
  ]
}