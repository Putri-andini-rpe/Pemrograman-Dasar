{
  "nbformat": 4,
  "nbformat_minor": 0,
  "metadata": {
    "colab": {
      "provenance": [],
      "authorship_tag": "ABX9TyNWZOVGAZoEtBBMwfQddOYG",
      "include_colab_link": true
    },
    "kernelspec": {
      "name": "python3",
      "display_name": "Python 3"
    },
    "language_info": {
      "name": "python"
    }
  },
  "cells": [
    {
      "cell_type": "markdown",
      "metadata": {
        "id": "view-in-github",
        "colab_type": "text"
      },
      "source": [
        "<a href=\"https://colab.research.google.com/github/Putri-andini-rpe/Pemrograman-Dasar/blob/main/Untitled0.ipynb\" target=\"_parent\"><img src=\"https://colab.research.google.com/assets/colab-badge.svg\" alt=\"Open In Colab\"/></a>"
      ]
    },
    {
      "cell_type": "code",
      "execution_count": 9,
      "metadata": {
        "colab": {
          "base_uri": "https://localhost:8080/"
        },
        "id": "NAVuE3viqPNl",
        "outputId": "18518fb2-9673-4d52-943a-79974ac62041"
      },
      "outputs": [
        {
          "output_type": "stream",
          "name": "stdout",
          "text": [
            "23\n",
            "43\n",
            "51\n",
            "52\n",
            "number:[2] :  51\n",
            "number:[3] :  52\n"
          ]
        }
      ],
      "source": [
        "# deklarasi variabel list\n",
        "numbers = [23, 43, 15, 34]\n",
        "#cara mengakses elemen dalam variabel list\n",
        "numbers[0] # 23\n",
        "numbers[1] # 43\n",
        "numbers[2] # 15\n",
        "numbers[3] # 34\n",
        "# cara mengubah nilai elemen dalam variabel list\n",
        "numbers[2] = 51\n",
        "numbers[3] = 52\n",
        "\n",
        "#lakukan untuk setiap indexnya dan lihat hasilnya\n",
        "print (numbers[0])\n",
        "print (numbers[1])\n",
        "print (numbers[2])\n",
        "print (numbers[3])\n",
        "print (\"number:[2] : \", numbers[2])\n",
        "print (\"number:[3] : \", numbers[3] )\n",
        "\n",
        ""
      ]
    },
    {
      "cell_type": "code",
      "source": [
        "# deklarasi variabel list numbers\n",
        "numbers = [1, 2, 3]\n",
        "\n",
        "# menambahkan elemen di indeks ke-4\n",
        "numbers.insert(4, 5)    # [1, 2, 3, 5]\n",
        "\n",
        "# mengubah elemen di indeks ke-4\n",
        "numbers[3] = 4          # [1, 2, 3, 4]\n",
        "\n",
        "# menghapus elemen di indeks ke-2\n",
        "numbers.pop(2)         # [1, 2, 4]\n",
        "\n",
        "print(\"\\n=== Ringkasan Perubahan List ===\")\n",
        "print(\"1. numbers         -> [1, 2, 3]\")\n",
        "print(\"2. numbers.insert  -> [1, 2, 3, 5]\")\n",
        "print(\"3. numbers[3]    -> [1, 2, 3, 4]\")\n",
        "print(\"4. numbers.pop     -> [1, 2, 4]\")\n",
        "\n"
      ],
      "metadata": {
        "colab": {
          "base_uri": "https://localhost:8080/"
        },
        "id": "GOk8NXmYttCr",
        "outputId": "5bc4b79c-7437-4158-ba03-9f98c76ed8d9"
      },
      "execution_count": 11,
      "outputs": [
        {
          "output_type": "stream",
          "name": "stdout",
          "text": [
            "\n",
            "=== Ringkasan Perubahan List ===\n",
            "1. numbers         -> [1, 2, 3]\n",
            "2. numbers.insert  -> [1, 2, 3, 5]\n",
            "3. numbers[3]    -> [1, 2, 3, 4]\n",
            "4. numbers.pop     -> [1, 2, 4]\n"
          ]
        }
      ]
    },
    {
      "cell_type": "code",
      "source": [
        "# deklarasi variabel list numbers\n",
        "numbers = [1, 2, 3]\n",
        "\n",
        "# menambahkan elemen di indeks ke-4\n",
        "numbers.insert(4, 5) # [1, 2, 3, 5]\n",
        "\n",
        "# mengubah elemen di indeks ke-4\n",
        "numbers[3] = 4 # [1, 2, 3, 4]\n",
        "\n",
        "# menghapus elemen di indeks ke-2\n",
        "numbers.pop(2) # [1, 2, 4]\n",
        "\n",
        "#print setiap hasil perubahan dan amati hasilnya"
      ],
      "metadata": {
        "id": "DNgB98GOxP-L"
      },
      "execution_count": null,
      "outputs": []
    },
    {
      "cell_type": "code",
      "source": [
        "# deklarasi variabel list\n",
        "myList = [1,\"Rumah\", 4.5, True, [\"Kamar mandi\", \"Kamar tidur\"]]\n",
        "\n",
        "# cara mengakses elemen dalam variabel list\n",
        "myList[0]   # 1\n",
        "myList[1]   # \"Rumah\"\n",
        "myList[2]   # True\n",
        "myList[3]   # [\"Kamar mandi\", \"Kamar tidur\"]\n",
        "\n",
        "# cara mengakses elemen dalam sublist\n",
        "myList[4][0]   # \"Kamar mandi\"\n",
        "myList[4][1]   # \"Kamar tidur\"\n",
        "\n",
        "#lakukan print lalu amati hasilnya"
      ],
      "metadata": {
        "id": "8HaLWRaoxgPV"
      },
      "execution_count": null,
      "outputs": []
    },
    {
      "cell_type": "code",
      "source": [
        "x = [\"laptop\", \"monitor\", \"mouse\", \"keyboard\", \"webcam\", \"microphone\"]\n",
        "\n",
        "print(x[0:5:2])\n",
        "print(x[1:])\n",
        "print(x[:3])\n",
        "\n"
      ],
      "metadata": {
        "colab": {
          "base_uri": "https://localhost:8080/"
        },
        "id": "qyiGvBery1Ck",
        "outputId": "e012c6c7-fc7e-4f78-9ff6-443c5bd5e340"
      },
      "execution_count": 4,
      "outputs": [
        {
          "output_type": "stream",
          "name": "stdout",
          "text": [
            "['laptop', 'mouse', 'webcam']\n",
            "['monitor', 'mouse', 'keyboard', 'webcam', 'microphone']\n",
            "['laptop', 'monitor', 'mouse']\n"
          ]
        }
      ]
    },
    {
      "cell_type": "code",
      "source": [
        "# deklarasi variabel tuple\n",
        "numbers = (23, 43, 15, 34)\n",
        "\n",
        "# cara mengakses elemen dalam variabel tuple\n",
        "numbers[0]    # 23\n",
        "numbers[1]    # 43\n",
        "numbers[2]    # 15\n",
        "\n",
        "#lakukan print lalu amati hasilnya"
      ],
      "metadata": {
        "id": "RO-7QXvI0DU1"
      },
      "execution_count": null,
      "outputs": []
    },
    {
      "cell_type": "code",
      "source": [
        "# deklarasi variabel set a dan b\n",
        "a = {1, 2, 3}\n",
        "b = { 2, 3, 4}\n",
        "\n",
        "# operasi gabungan\n",
        "a.union(b)    # {1, 2, 3, 4}\n",
        "\n",
        "# operasi irisan\n",
        "a.intersection(b)    # {2, 3}\n",
        "\n",
        "# operasi perbedaan\n",
        "a.symmetric_difference(b)    # {1, 4}\n",
        "\n",
        "#lakukan print dan lihat hasilnya\n"
      ],
      "metadata": {
        "id": "YgN_LPKq00XF"
      },
      "execution_count": null,
      "outputs": []
    },
    {
      "cell_type": "code",
      "source": [
        "# deklarasi variabel dictionary\n",
        "propertyDetail = {\"numFloors\": 1, \"propertyType\": \"Rumah\", \"hasTerrace\": True, \"hasGarage\": False}\n",
        "\n",
        "# cara mengakses elemen dalam variabel dicitonary\n",
        "propertyDetail[\"numFloors\"]       # 1\n",
        "propertyDetail[\"propertyType\"]    # Rumah\n",
        "propertyDeatil[\"hasTerrace\"]      # True\n",
        "propertyDetail[\"hasGarage\"]       # False\n",
        "\n",
        "# cara mengubah nilai elemen dalam variabel dictionary\n",
        "propertyDetail[\"hasTerrace\"] = False\n",
        "\n",
        "propertyDetail[\"hasTerrace\"]      # False\n",
        "\n",
        "#print(propertyDetail[\"propertyType\"])\n",
        "\n",
        "#lakukan print lalu amati hasilnya\n"
      ],
      "metadata": {
        "id": "2ZmT7jy01hVW"
      },
      "execution_count": null,
      "outputs": []
    }
  ]
}