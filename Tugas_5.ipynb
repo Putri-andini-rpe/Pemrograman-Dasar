{
  "nbformat": 4,
  "nbformat_minor": 0,
  "metadata": {
    "colab": {
      "provenance": [],
      "authorship_tag": "ABX9TyNb5c4f5J+g/YxtqLVOi0Us",
      "include_colab_link": true
    },
    "kernelspec": {
      "name": "python3",
      "display_name": "Python 3"
    },
    "language_info": {
      "name": "python"
    }
  },
  "cells": [
    {
      "cell_type": "markdown",
      "metadata": {
        "id": "view-in-github",
        "colab_type": "text"
      },
      "source": [
        "<a href=\"https://colab.research.google.com/github/Putri-andini-rpe/Pemrograman-Dasar/blob/main/Tugas_5.ipynb\" target=\"_parent\"><img src=\"https://colab.research.google.com/assets/colab-badge.svg\" alt=\"Open In Colab\"/></a>"
      ]
    },
    {
      "cell_type": "code",
      "execution_count": null,
      "metadata": {
        "colab": {
          "base_uri": "https://localhost:8080/"
        },
        "id": "PW2Mkb0nnfSo",
        "outputId": "e5d13197-793c-4dba-b9eb-35105d335566"
      },
      "outputs": [
        {
          "output_type": "stream",
          "name": "stdout",
          "text": [
            "--- Soal 1 ---\n",
            "1\n",
            "3\n",
            "5\n",
            "7\n",
            "9\n",
            "--Modifikasi soal 1 --\n",
            "2\n",
            "4\n",
            "6\n",
            "8\n",
            "10\n",
            "12\n",
            "14\n",
            "16\n",
            "18\n",
            "20\n",
            "22\n",
            "24\n",
            "26\n",
            "28\n",
            "30\n",
            "32\n",
            "34\n",
            "36\n",
            "38\n",
            "40\n",
            "42\n",
            "44\n",
            "46\n",
            "48\n"
          ]
        }
      ],
      "source": [
        "print(\"--- Soal 1 ---\")\n",
        "# Mencetak bilangan ganjil 1 hingga 9\n",
        "for angka in range(1, 10,2 ):\n",
        "    print(angka)\n",
        "\n",
        "print(\"--Modifikasi soal 1 --\")\n",
        "# Mencetak bilangan genap 1 hingga 50\n",
        "for angka in range(2, 50,2 ):\n",
        "    print(angka)\n",
        "\n"
      ]
    },
    {
      "cell_type": "code",
      "source": [
        "print(\"--- Soal 2 ---\")\n",
        "kode_berhenti = 99\n",
        "input_pengguna = 0 # Inisialisasi awal\n",
        "\n",
        "while input_pengguna != kode_berhenti:\n",
        "    try:\n",
        "        input_pengguna = int(input(\"Masukkan angka (99 untuk berhenti): \"))\n",
        "    except ValueError:\n",
        "        print(\"Input tidak valid. Harap masukkan angka.\")\n",
        "\n",
        "print(\"Perulangan telah dihentikan oleh sentinel (99).\")\n",
        "\n",
        "print(\"--- Modifikasi Soal 2 ---\")\n",
        "kode_berhenti = 4232401022\n",
        "input_pengguna = 0 # Inisialisasi awal\n",
        "\n",
        "while input_pengguna != kode_berhenti:\n",
        "    try:\n",
        "        input_pengguna = int(input(\"Masukkan angka (4232401022 untuk berhenti): \"))\n",
        "    except ValueError:\n",
        "        print(\"Input tidak valid. Harap masukkan angka.\")\n",
        "\n",
        "print(\"Perulangan telah dihentikan oleh sentinel (4232401022).\")"
      ],
      "metadata": {
        "colab": {
          "base_uri": "https://localhost:8080/"
        },
        "id": "iWt91ksnrZ0B",
        "outputId": "fea4dcfe-4e42-43d5-90d0-363f79c5e8f4"
      },
      "execution_count": 2,
      "outputs": [
        {
          "output_type": "stream",
          "name": "stdout",
          "text": [
            "--- Soal 2 ---\n",
            "Masukkan angka (99 untuk berhenti): 99\n",
            "Perulangan telah dihentikan oleh sentinel (99).\n",
            "--- Modifikasi Soal 2 ---\n",
            "Masukkan angka (4232401022 untuk berhenti): 4232401022\n",
            "Perulangan telah dihentikan oleh sentinel (4232401022).\n"
          ]
        }
      ]
    },
    {
      "cell_type": "code",
      "source": [
        "print(\"--- Soal 3 ---\")\n",
        "harga_barang = [15000, 25000, 10000, 5000]\n",
        "total_belanja = 0\n",
        "\n",
        "for harga in harga_barang:\n",
        "    total_belanja += harga\n",
        "\n",
        "print(\"Total biaya belanja adalah:\", total_belanja)\n",
        "\n",
        "# ====== Modifikasi soal no 3 ======\n",
        "harga_barang = [20000, 50000, 100000, 2500, 95000, 87000, 55000, 47800, 43900, 145367]\n",
        "total_belanja = 15000\n",
        "\n",
        "for harga in harga_barang:\n",
        "    total_belanja += harga\n",
        "\n",
        "print(\"Total biaya belanja adalah:\", total_belanja)"
      ],
      "metadata": {
        "colab": {
          "base_uri": "https://localhost:8080/"
        },
        "id": "_12X1IbzF-oT",
        "outputId": "570d5660-3d71-48ec-82b9-582b39891d8a"
      },
      "execution_count": 3,
      "outputs": [
        {
          "output_type": "stream",
          "name": "stdout",
          "text": [
            "--- Soal 3 ---\n",
            "Total biaya belanja adalah: 55000\n",
            "Total biaya belanja adalah: 661567\n"
          ]
        }
      ]
    },
    {
      "cell_type": "code",
      "source": [
        "print(\"--- Soal 4 ---\")\n",
        "percobaan_maksimal = 3\n",
        "percobaan_saat_ini = 1\n",
        "\n",
        "while percobaan_saat_ini <= percobaan_maksimal:\n",
        "    print(f\"Percobaan ke-{percobaan_saat_ini}...\")\n",
        "    # Asumsi ada logika input password di sini\n",
        "    percobaan_saat_ini += 1\n",
        "\n",
        "if percobaan_saat_ini == percobaan_maksimal + 1:\n",
        "    print(\"Kesempatan habis.\")\n",
        "else:\n",
        "    print(\"Akses diterima.\")\n",
        "\n",
        "# Modifikasi soal no 4\n",
        "# Dengan memodifikasi password\n",
        "\n",
        "print(\"--- Soal 4 ---\")\n",
        "password_benar = \"manusia_langka\"\n",
        "percobaan_maksimal = 3\n",
        "percobaan_saat_ini = 1\n",
        "\n",
        "while percobaan_saat_ini <= percobaan_maksimal:\n",
        "    password = input(f\"Percobaan ke-{percobaan_saat_ini}, masukkan password: \")\n",
        "\n",
        "    if password == password_benar:\n",
        "        print(\"Akses diterima.\")\n",
        "        break  # keluar dari perulangan kalau password benar\n",
        "    else:\n",
        "        print(\"Password salah.\")\n",
        "\n",
        "    percobaan_saat_ini += 1  # tambah jumlah percobaan\n",
        "\n",
        "if percobaan_saat_ini > percobaan_maksimal:\n",
        "    print(\"Kesempatan habis. Akses ditolak.\")\n"
      ],
      "metadata": {
        "id": "dxcgo3WLHPXE",
        "colab": {
          "base_uri": "https://localhost:8080/"
        },
        "outputId": "e5ff2ecd-ea01-4500-f042-7d50cb9c21a4"
      },
      "execution_count": 7,
      "outputs": [
        {
          "output_type": "stream",
          "name": "stdout",
          "text": [
            "--- Soal 4 ---\n",
            "Percobaan ke-1...\n",
            "Percobaan ke-2...\n",
            "Percobaan ke-3...\n",
            "Kesempatan habis.\n",
            "--- Soal 4 ---\n",
            "Percobaan ke-1, masukkan password: ayambersuara\n",
            "Password salah.\n",
            "Percobaan ke-2, masukkan password: manusiapintar\n",
            "Password salah.\n",
            "Percobaan ke-3, masukkan password: manusia_langka\n",
            "Akses diterima.\n"
          ]
        }
      ]
    },
    {
      "cell_type": "code",
      "source": [
        "print(\"--- Soal 5 ---\")\n",
        "nama_proyek = \"PRAKTIKUM\"\n",
        "hasil_output = \"\"\n",
        "\n",
        "for karakter in nama_proyek:\n",
        "    hasil_output += karakter + \"-\"\n",
        "\n",
        "print(hasil_output) # Output: P-R-A-K-T-I-K-U-M-\n",
        "\n",
        "# Modifikasilah agar teksi yang di cetak menjadi Politeknik Negeri Batam\n",
        "nama_proyek = \"POLITEKNIK NEGERI BATAM\"\n",
        "hasil_output = \"\"\n",
        "\n",
        "for karakter in nama_proyek:\n",
        "    hasil_output += karakter + \"-\"\n",
        "\n",
        "print(hasil_output)"
      ],
      "metadata": {
        "colab": {
          "base_uri": "https://localhost:8080/"
        },
        "id": "rATtNGzQ9CNP",
        "outputId": "cde36d1d-f70e-48ff-ffc0-2a0bbb1f7726"
      },
      "execution_count": 10,
      "outputs": [
        {
          "output_type": "stream",
          "name": "stdout",
          "text": [
            "--- Soal 5 ---\n",
            "P-R-A-K-T-I-K-U-M-\n",
            "P-O-L-I-T-E-K-N-I-K- -N-E-G-E-R-I- -B-A-T-A-M-\n"
          ]
        }
      ]
    },
    {
      "cell_type": "markdown",
      "source": [],
      "metadata": {
        "id": "tBlR5Lx59th1"
      }
    }
  ]
}