{
  "nbformat": 4,
  "nbformat_minor": 0,
  "metadata": {
    "colab": {
      "provenance": [],
      "authorship_tag": "ABX9TyNi6FNVslpCg6t37mtMCF3j",
      "include_colab_link": true
    },
    "kernelspec": {
      "name": "python3",
      "display_name": "Python 3"
    },
    "language_info": {
      "name": "python"
    }
  },
  "cells": [
    {
      "cell_type": "markdown",
      "metadata": {
        "id": "view-in-github",
        "colab_type": "text"
      },
      "source": [
        "<a href=\"https://colab.research.google.com/github/Putri-andini-rpe/Pemrograman-Dasar/blob/main/Tugas_5.ipynb\" target=\"_parent\"><img src=\"https://colab.research.google.com/assets/colab-badge.svg\" alt=\"Open In Colab\"/></a>"
      ]
    },
    {
      "cell_type": "code",
      "execution_count": 10,
      "metadata": {
        "colab": {
          "base_uri": "https://localhost:8080/"
        },
        "id": "PW2Mkb0nnfSo",
        "outputId": "e5d13197-793c-4dba-b9eb-35105d335566"
      },
      "outputs": [
        {
          "output_type": "stream",
          "name": "stdout",
          "text": [
            "--- Soal 1 ---\n",
            "1\n",
            "3\n",
            "5\n",
            "7\n",
            "9\n",
            "--Modifikasi soal 1 --\n",
            "2\n",
            "4\n",
            "6\n",
            "8\n",
            "10\n",
            "12\n",
            "14\n",
            "16\n",
            "18\n",
            "20\n",
            "22\n",
            "24\n",
            "26\n",
            "28\n",
            "30\n",
            "32\n",
            "34\n",
            "36\n",
            "38\n",
            "40\n",
            "42\n",
            "44\n",
            "46\n",
            "48\n"
          ]
        }
      ],
      "source": [
        "print(\"--- Soal 1 ---\")\n",
        "# Mencetak bilangan ganjil 1 hingga 9\n",
        "for angka in range(1, 10,2 ):\n",
        "    print(angka)\n",
        "\n",
        "print(\"--Modifikasi soal 1 --\")\n",
        "# Mencetak bilangan genap 1 hingga 50\n",
        "for angka in range(2, 50,2 ):\n",
        "    print(angka)\n",
        "\n"
      ]
    },
    {
      "cell_type": "code",
      "source": [
        "print(\"--- Soal 2 ---\")\n",
        "kode_berhenti = 99\n",
        "input_pengguna = 0 # Inisialisasi awal\n",
        "\n",
        "while input_pengguna != kode_berhenti:\n",
        "    try:\n",
        "        input_pengguna = int(input(\"Masukkan angka (99 untuk berhenti): \"))\n",
        "    except ValueError:\n",
        "        print(\"Input tidak valid. Harap masukkan angka.\")\n",
        "\n",
        "print(\"Perulangan telah dihentikan oleh sentinel (99).\")\n",
        "\n",
        "print(\"--- Modifikasi Soal 2 ---\")\n",
        "kode_berhenti = 4232401022\n",
        "input_pengguna = 0 # Inisialisasi awal\n",
        "\n",
        "while input_pengguna != kode_berhenti:\n",
        "    try:\n",
        "        input_pengguna = int(input(\"Masukkan angka (4232401022 untuk berhenti): \"))\n",
        "    except ValueError:\n",
        "        print(\"Input tidak valid. Harap masukkan angka.\")\n",
        "\n",
        "print(\"Perulangan telah dihentikan oleh sentinel (4232401022).\")"
      ],
      "metadata": {
        "colab": {
          "base_uri": "https://localhost:8080/"
        },
        "id": "iWt91ksnrZ0B",
        "outputId": "5b541236-fec0-4862-ee1a-e4162c9c329f"
      },
      "execution_count": 21,
      "outputs": [
        {
          "output_type": "stream",
          "name": "stdout",
          "text": [
            "--- Soal 2 ---\n",
            "Masukkan angka (99 untuk berhenti): 99\n",
            "Perulangan telah dihentikan oleh sentinel (99).\n",
            "--- Modifikasi Soal 2 ---\n",
            "Masukkan angka (4232401022 untuk berhenti): 4232401022\n",
            "Perulangan telah dihentikan oleh sentinel (4232401022).\n"
          ]
        }
      ]
    },
    {
      "cell_type": "code",
      "source": [],
      "metadata": {
        "id": "pl-vjIeCwHej"
      },
      "execution_count": null,
      "outputs": []
    }
  ]
}