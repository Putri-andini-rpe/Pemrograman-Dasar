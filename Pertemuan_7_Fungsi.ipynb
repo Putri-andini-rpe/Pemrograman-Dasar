{
  "nbformat": 4,
  "nbformat_minor": 0,
  "metadata": {
    "colab": {
      "provenance": [],
      "authorship_tag": "ABX9TyO9LqHXrJutTPha/AM+JAE2",
      "include_colab_link": true
    },
    "kernelspec": {
      "name": "python3",
      "display_name": "Python 3"
    },
    "language_info": {
      "name": "python"
    }
  },
  "cells": [
    {
      "cell_type": "markdown",
      "metadata": {
        "id": "view-in-github",
        "colab_type": "text"
      },
      "source": [
        "<a href=\"https://colab.research.google.com/github/Putri-andini-rpe/Pemrograman-Dasar/blob/main/Pertemuan_7_Fungsi.ipynb\" target=\"_parent\"><img src=\"https://colab.research.google.com/assets/colab-badge.svg\" alt=\"Open In Colab\"/></a>"
      ]
    },
    {
      "cell_type": "code",
      "execution_count": 19,
      "metadata": {
        "colab": {
          "base_uri": "https://localhost:8080/"
        },
        "id": "rcwGKN5XFglp",
        "outputId": "1af50743-fbe6-49dc-b9c5-ee5b476a4d13"
      },
      "outputs": [
        {
          "output_type": "stream",
          "name": "stdout",
          "text": [
            "===== Soal 1 =====\n",
            "Sistem siap. Selamat datang kembali di sesi praktikum.\n",
            "Silakan siapkan alat dan bahan yang diperlukan.\n",
            "Jangan lupa untuk mencatat setiap hasil pengamatan.\n",
            "=== Modifikasi Soal 1 ===\n",
            "=== BIODATA DIRI ===\n",
            "Nama        : Putri Andini\n",
            "NIM         : 4232401022\n",
            "Jurusan     : Teknik Elektro\n",
            "Program Studi : Teknologi Rekayasa Pembangkit Energi\n",
            "Kelas       : RPE- 3A Pagi\n",
            "Universitas : Politeknik Negeri Batam\n",
            "Hobi        : Membaca dan Mendengarkan musik\n",
            "===================================\n"
          ]
        }
      ],
      "source": [
        "# SOAL 1: Fungsi Inisialisasi Sederhana\n",
        "print(\"===== Soal 1 =====\")\n",
        "\n",
        "def sapa_praktikan():\n",
        "    \"\"\"Mencetak pesan sambutan dasar\"\"\"\n",
        "    print(\"Sistem siap. Selamat datang kembali di sesi praktikum.\")\n",
        "    print(\"Silakan siapkan alat dan bahan yang diperlukan.\")\n",
        "    print(\"Jangan lupa untuk mencatat setiap hasil pengamatan.\")\n",
        "# Pemanggilan:\n",
        "sapa_praktikan()\n",
        "\n",
        "print(\"=== Modifikasi Soal 1 ===\")\n",
        "\n",
        "def Biodata_Diri():\n",
        "    \"\"\"Menampilkan Biodata Diri\"\"\"\n",
        "    print(\"=== BIODATA DIRI ===\")\n",
        "    print(\"Nama        : Putri Andini\")\n",
        "    print(\"NIM         : 4232401022\")\n",
        "    print(\"Jurusan     : Teknik Elektro\")\n",
        "    print(\"Program Studi : Teknologi Rekayasa Pembangkit Energi\")\n",
        "    print(\"Kelas       : RPE- 3A Pagi\")\n",
        "    print(\"Universitas : Politeknik Negeri Batam\")\n",
        "    print(\"Hobi        : Membaca dan Mendengarkan musik\")\n",
        "    print(\"===================================\")\n",
        "\n",
        "# Pemanggilan fungsi\n",
        "Biodata_Diri()\n",
        "\n",
        "\n"
      ]
    },
    {
      "cell_type": "code",
      "source": [
        "# Soal 2: Fungsi dengan Parameter Primitif (Matematika)\n",
        "\n",
        "print(\"===== Soal 2 =====\")\n",
        "# SOAL 2: Menghitung Volume Kubus\n",
        "def hitung_volume_kubus(sisi):\n",
        "    \"\"\"Menghitung volume kubus dari panjang sisinya\"\"\"\n",
        "    return sisi ** 3\n",
        "\n",
        "# Pemanggilan:\n",
        "panjang_sisi = 5\n",
        "print(f\"Volume kubus dengan sisi {panjang_sisi} adalah: {hitung_volume_kubus(panjang_sisi)}\")\n",
        "\n",
        "print(\"==== Modifikasi Soal 2 ====\")\n",
        "# Soal Modifikasi : Menghitung Volume Balok\n",
        "def hitung_volume_balok(panjang,lebar,tinggi):\n",
        "    \"\"\" Menghitung volume balok dari panjang, lebar, dan tinggi \"\"\"\n",
        "    return panjang * lebar * tinggi\n",
        "\n",
        "# Pemanggilan:\n",
        "p = 15\n",
        "l = 8\n",
        "t = 6\n",
        "print(f\"Volume balok dengan p={p}, l={l}, t={t} adalah: {hitung_volume_balok(p, l, t)}\")"
      ],
      "metadata": {
        "colab": {
          "base_uri": "https://localhost:8080/"
        },
        "id": "Ps1-kHu9M4M3",
        "outputId": "48b26301-66d0-4244-cff1-a7a2571dbb50"
      },
      "execution_count": 26,
      "outputs": [
        {
          "output_type": "stream",
          "name": "stdout",
          "text": [
            "===== Soal 2 =====\n",
            "Volume kubus dengan sisi 5 adalah: 125\n",
            "==== Modifikasi Soal 2 ====\n",
            "Volume balok dengan p=15, l=8, t=6 adalah: 720\n"
          ]
        }
      ]
    },
    {
      "cell_type": "code",
      "source": [
        "# Soal 3: Fungsi dengan Parameter Non-Primitif (list) dan Perulangan (for)\n",
        "print(\"==== Soal 3 ====\")\n",
        "# SOAL 3: Menghitung Rata-rata dari List Nilai\n",
        "\n",
        "def hitung_rata_rata(data_nilai):\n",
        "    \"\"\"Menghitung rata-rata dari list angka menggunakan perulangan for.\"\"\"\n",
        "    total = 0\n",
        "\n",
        "    # Menampilkan semua nilai dalam list\n",
        "    print(\"Daftar nilai siswa:\", data_nilai)\n",
        "\n",
        "    # Perulangan untuk menjumlahkan nilai\n",
        "    for nilai in data_nilai:\n",
        "        total += nilai\n",
        "\n",
        "    # Pembagian untuk rata-rata\n",
        "    if total > 0:\n",
        "        return total / len(data_nilai)\n",
        "    return 0\n",
        "\n",
        "# Pemanggilan:\n",
        "nilai_praktikan = [85, 78, 92, 65, 90]\n",
        "print(f\"Nilai rata-rata kelas adalah: {hitung_rata_rata(nilai_praktikan)}\")\n",
        "\n",
        "print(\"==== Modifikasi Soal 3 ====\")\n",
        "# SOAL 3 (Modifikasi): Menghitung Rata-rata dengan Validasi Nilai\n",
        "def hitung_rata_rata(data_nilai):\n",
        "    \"\"\"Menghitung rata-rata dari list angka dengan validasi nilai.\"\"\"\n",
        "    total = 0\n",
        "    jumlah_valid = 0\n",
        "    print(\"Daftar nilai siswa:\", data_nilai)\n",
        "\n",
        "    # Perulangan untuk memproses setiap nilai\n",
        "    for nilai in data_nilai:\n",
        "        # Percabangan untuk memeriksa nilai valid\n",
        "        if 0 <= nilai <= 100:\n",
        "            total += nilai\n",
        "            jumlah_valid += 1\n",
        "        else:\n",
        "            print(f\"⚠️ Nilai {nilai} tidak valid — diabaikan dari perhitungan.\")\n",
        "\n",
        "    # Menghindari pembagian dengan nol\n",
        "    if jumlah_valid > 0:\n",
        "        return total / jumlah_valid\n",
        "    else:\n",
        "        return 0\n",
        "\n",
        "# Pemanggilan:\n",
        "nilai_praktikan = [85, 125, 55, -20, 88]\n",
        "print(f\"Nilai rata-rata kelas adalah: {hitung_rata_rata(nilai_praktikan)}\")\n",
        "\n"
      ],
      "metadata": {
        "colab": {
          "base_uri": "https://localhost:8080/"
        },
        "id": "HueaJH-QQHW7",
        "outputId": "271f8193-811d-4592-9323-725a525fdc11"
      },
      "execution_count": 34,
      "outputs": [
        {
          "output_type": "stream",
          "name": "stdout",
          "text": [
            "==== Soal 3 ====\n",
            "Daftar nilai siswa: [85, 78, 92, 65, 90]\n",
            "Nilai rata-rata kelas adalah: 82.0\n",
            "==== Modifikasi Soal 3 ====\n",
            "Daftar nilai siswa: [85, 125, 55, -20, 88]\n",
            "⚠️ Nilai 125 tidak valid — diabaikan dari perhitungan.\n",
            "⚠️ Nilai -20 tidak valid — diabaikan dari perhitungan.\n",
            "Nilai rata-rata kelas adalah: 76.0\n"
          ]
        }
      ]
    },
    {
      "cell_type": "code",
      "source": [
        "# Soal 4: Fungsi dengan Percabangan (if, elif, else)\n",
        "print(\"==== Soal 4 ====\")\n",
        "# SOAL 4: Sistem Penentuan Predikat Nilai\n",
        "def tentukan_predikat(skor):\n",
        "    \"\"\"Menentukan predikat (A, B, C, D, E) berdasarkan skor.\"\"\"\n",
        "    if skor >= 85:\n",
        "        return \"A\"\n",
        "    elif skor >= 70:\n",
        "        return \"B\"\n",
        "    elif skor >= 60:\n",
        "        return \"C\"\n",
        "    elif skor >= 50:\n",
        "        return \"D\"\n",
        "    else:\n",
        "        return \"E\"\n",
        "\n",
        "# Pemanggilan:\n",
        "print(f\"Skor 75 mendapat predikat: {tentukan_predikat(75)}\")\n",
        "print(f\"Skor 48 mendapat predikat: {tentukan_predikat(48)}\")\n",
        "\n",
        "# SOAL 4 (Modifikasi): Sistem Penentuan Predikat Nilai dengan Validasi Tipe Data\n",
        "print(\"==== Modifikasi Soal 4 ====\")\n",
        "def tentukan_predikat(skor):\n",
        "    \"\"\"Menentukan predikat (A, B, C, D, E) berdasarkan skor dengan validasi tipe data.\"\"\"\n",
        "\n",
        "    # 🔹 Pengecekan tipe data\n",
        "    if not isinstance(skor, (int, float)):\n",
        "        return \"Error: Input harus berupa angka (int atau float).\"\n",
        "\n",
        "    # 🔹 Pengecekan nilai agar tetap dalam rentang 0–100\n",
        "    if skor < 0 or skor > 100:\n",
        "        return \"Error: Skor harus berada di antara 0 sampai 100.\"\n",
        "\n",
        "    # 🔹 Penentuan predikat\n",
        "    if skor >= 85:\n",
        "        return \"A\"\n",
        "    elif skor >= 70:\n",
        "        return \"B\"\n",
        "    elif skor >= 60:\n",
        "        return \"C\"\n",
        "    elif skor >= 50:\n",
        "        return \"D\"\n",
        "    else:\n",
        "        return \"E\"\n",
        "\n",
        "# Pemanggilan:\n",
        "print(f\"Skor 75 mendapat predikat: {tentukan_predikat(75)}\")\n",
        "print(f\"Skor 48 mendapat predikat: {tentukan_predikat(48)}\")\n",
        "print(f\"Skor 'lima puluh' mendapat predikat: {tentukan_predikat('lima puluh')}\")\n",
        "print(f\"Skor 120 mendapat predikat: {tentukan_predikat(120)}\")\n"
      ],
      "metadata": {
        "colab": {
          "base_uri": "https://localhost:8080/"
        },
        "id": "hqAsK9W5SKcX",
        "outputId": "231d68f1-f83a-4120-f01e-659d2fceb7fc"
      },
      "execution_count": 39,
      "outputs": [
        {
          "output_type": "stream",
          "name": "stdout",
          "text": [
            "==== Soal 4 ====\n",
            "Skor 75 mendapat predikat: B\n",
            "Skor 48 mendapat predikat: E\n",
            "==== Soal 4 ====\n",
            "Skor 75 mendapat predikat: B\n",
            "Skor 48 mendapat predikat: E\n",
            "Skor 'lima puluh' mendapat predikat: Error: Input harus berupa angka (int atau float).\n",
            "Skor 120 mendapat predikat: Error: Skor harus berada di antara 0 sampai 100.\n"
          ]
        }
      ]
    },
    {
      "cell_type": "code",
      "source": [
        "# Soal 5:Fungsi dengan Implementasi Perulangan while\n",
        "print(\"=== Soal 5 ===\")\n",
        "# SOAL 5: Menghitung Faktorial dengan Loop While\n",
        "def hitung_faktorial(n):\n",
        "    \"\"\"Menghitung faktorial dari bilangan positif n.\"\"\"\n",
        "    hasil = 1\n",
        "\n",
        "    # Perulangan berjalan selama n lebih besar dari 1\n",
        "    while n > 1:\n",
        "        hasil *= n\n",
        "        n -= 1  # Kurangi n\n",
        "    return hasil\n",
        "\n",
        "# Pemanggilan:\n",
        "bilangan_n = 4\n",
        "print(f\"Faktorial dari {bilangan_n} adalah: {hitung_faktorial(bilangan_n)}\")  # Output: 24\n",
        "\n",
        "\n",
        "print(\"=== Soal 5 ===\")\n",
        "# SOAL 5 (Modifikasi): Menghitung Faktorial dengan Penanganan Kasus Khusus\n",
        "def hitung_faktorial(n):\n",
        "    \"\"\"Menghitung faktorial dari bilangan positif n dengan penanganan kasus khusus.\"\"\"\n",
        "\n",
        "    # 🔹 Penanganan kasus n < 0\n",
        "    if n < 0:\n",
        "        return \"Error: Faktorial tidak dapat dihitung untuk bilangan negatif.\"\n",
        "\n",
        "    # 🔹 Kasus khusus n = 0\n",
        "    if n == 0:\n",
        "        return 1\n",
        "\n",
        "    # 🔹 Proses perhitungan faktorial dengan while\n",
        "    hasil = 1\n",
        "    while n > 1:\n",
        "        hasil *= n\n",
        "        n -= 1  # Kurangi n tiap iterasi\n",
        "\n",
        "    return hasil\n",
        "\n",
        "\n",
        "# Pemanggilan:\n",
        "print(f\"Faktorial dari 4 adalah: {hitung_faktorial(4)}\")   # Output: 24\n",
        "print(f\"Faktorial dari 0 adalah: {hitung_faktorial(0)}\")   # Output: 1\n",
        "print(f\"Faktorial dari -3 adalah: {hitung_faktorial(-3)}\") # Output: Error\n"
      ],
      "metadata": {
        "colab": {
          "base_uri": "https://localhost:8080/"
        },
        "id": "5dp61ebVW224",
        "outputId": "0287edeb-2b0f-4b73-9c37-14febbaf8ea1"
      },
      "execution_count": 44,
      "outputs": [
        {
          "output_type": "stream",
          "name": "stdout",
          "text": [
            "=== Soal 5 ===\n",
            "Faktorial dari 4 adalah: 24\n",
            "=== Soal 5 ===\n",
            "Faktorial dari 4 adalah: 24\n",
            "Faktorial dari 0 adalah: 1\n",
            "Faktorial dari -3 adalah: Error: Faktorial tidak dapat dihitung untuk bilangan negatif.\n"
          ]
        }
      ]
    },
    {
      "cell_type": "code",
      "source": [
        "# Soal 6: Fungsi Komprehensif (Gabungan Perulangan dan Percabangan)\n",
        "print(\"==== Soal 6 ====\")\n",
        "# SOAL 6: Analisis Data Suhu Ekstrem (for dan if/elif)\n",
        "def analisis_suhu(data_suhu):\n",
        "    \"\"\"Menghitung jumlah hari Panas dan Dingin dari data_suhu.\"\"\"\n",
        "    panas_count = 0\n",
        "    dingin_count = 0\n",
        "\n",
        "    for suhu in data_suhu:\n",
        "        if suhu >= 35:\n",
        "            panas_count += 1\n",
        "        elif suhu <= 15:\n",
        "            dingin_count += 1\n",
        "\n",
        "    return panas_count, dingin_count\n",
        "\n",
        "# Pemanggilan:\n",
        "suhu_mingguan = [36, 30, 14, 25, 38, 16, 28]\n",
        "jumlah_panas, jumlah_dingin = analisis_suhu(suhu_mingguan)\n",
        "print(f\"Jumlah hari Panas (>=35°C): {jumlah_panas}\")\n",
        "print(f\"Jumlah hari Dingin (<=15°C): {jumlah_dingin}\")\n",
        "\n",
        "\n",
        "print(\"==== Modifikasi Soal 6 ====\")\n",
        "# SOAL 6 (Modifikasi): Analisis Data Suhu Ekstrem dengan Parameter Opsional\n",
        "def analisis_suhu(data_suhu, batas_panas=35, batas_dingin=15):\n",
        "    \"\"\"Menghitung jumlah hari Panas dan Dingin dari data_suhu dengan batas suhu yang bisa diubah.\"\"\"\n",
        "    panas_count = 0\n",
        "    dingin_count = 0\n",
        "\n",
        "    for suhu in data_suhu:\n",
        "        if suhu >= batas_panas:\n",
        "            panas_count += 1\n",
        "        elif suhu <= batas_dingin:\n",
        "            dingin_count += 1\n",
        "\n",
        "    return panas_count, dingin_count\n",
        "\n",
        "# Pemanggilan (default)\n",
        "suhu_mingguan = [36, 30, 14, 25, 38, 16, 28]\n",
        "jumlah_panas, jumlah_dingin = analisis_suhu(suhu_mingguan)\n",
        "print(\"=== Penggunaan Default ===\")\n",
        "print(f\"Jumlah hari Panas (>=35°C): {jumlah_panas}\")\n",
        "print(f\"Jumlah hari Dingin (<=15°C): {jumlah_dingin}\")\n",
        "\n",
        "# Pemanggilan (ubah batas)\n",
        "jumlah_panas2, jumlah_dingin2 = analisis_suhu(suhu_mingguan, batas_panas=33, batas_dingin=18)\n",
        "print(\"\\n=== Penggunaan Batas Kustom ===\")\n",
        "print(f\"Jumlah hari Panas (>=33°C): {jumlah_panas2}\")\n",
        "print(f\"Jumlah hari Dingin (<=18°C): {jumlah_dingin2}\")\n"
      ],
      "metadata": {
        "colab": {
          "base_uri": "https://localhost:8080/"
        },
        "id": "6UmCfe3RX9iP",
        "outputId": "d02c9832-2563-4ff5-9b20-1fe0a5776595"
      },
      "execution_count": 48,
      "outputs": [
        {
          "output_type": "stream",
          "name": "stdout",
          "text": [
            "==== Soal 6 ====\n",
            "Jumlah hari Panas (>=35°C): 2\n",
            "Jumlah hari Dingin (<=15°C): 1\n",
            "==== Modifikasi Soal 6 ====\n",
            "=== Penggunaan Default ===\n",
            "Jumlah hari Panas (>=35°C): 2\n",
            "Jumlah hari Dingin (<=15°C): 1\n",
            "\n",
            "=== Penggunaan Batas Kustom ===\n",
            "Jumlah hari Panas (>=33°C): 2\n",
            "Jumlah hari Dingin (<=18°C): 2\n"
          ]
        }
      ]
    }
  ]
}