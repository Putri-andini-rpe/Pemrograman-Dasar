{
  "nbformat": 4,
  "nbformat_minor": 0,
  "metadata": {
    "colab": {
      "provenance": [],
      "authorship_tag": "ABX9TyNL/GW7o4fT4puzGh5pg4yu",
      "include_colab_link": true
    },
    "kernelspec": {
      "name": "python3",
      "display_name": "Python 3"
    },
    "language_info": {
      "name": "python"
    }
  },
  "cells": [
    {
      "cell_type": "markdown",
      "metadata": {
        "id": "view-in-github",
        "colab_type": "text"
      },
      "source": [
        "<a href=\"https://colab.research.google.com/github/Putri-andini-rpe/Pemrograman-Dasar/blob/main/Pertemuan%201.ipynb\" target=\"_parent\"><img src=\"https://colab.research.google.com/assets/colab-badge.svg\" alt=\"Open In Colab\"/></a>"
      ]
    },
    {
      "cell_type": "code",
      "execution_count": 4,
      "metadata": {
        "id": "oj2BJFsQbsDY",
        "colab": {
          "base_uri": "https://localhost:8080/"
        },
        "outputId": "4712aa28-4000-4fbf-bd13-c01db48c0ca4"
      },
      "outputs": [
        {
          "output_type": "stream",
          "name": "stdout",
          "text": [
            "Putri Andini\n",
            "20\n",
            "Batam, 28 Mei 2005\n",
            "Teknik Elektro\n",
            "Teknologi Rekayasa Pembangkit Energi\n",
            "3\n",
            "4232401022\n",
            "Komplek_Nurul_Jadid_Blok E_No 28\n",
            "Guru_TPQ_Miftahul_'Ulum\n",
            "Pemrograman Dasar\n",
            "False\n",
            "putriiandiniii09@gmail.com\n",
            "putri.4232401022@students.polibatam.ac.id\n"
          ]
        }
      ],
      "source": [
        "# Biodata Saya\n",
        "nama = \"Putri Andini\"\n",
        "umur = 20\n",
        "tempat_tanggal_lahir = \"Batam, 28 Mei 2005\"\n",
        "jurusan = \"Teknik Elektro\"\n",
        "prodi = \"Teknologi Rekayasa Pembangkit Energi\"\n",
        "semester = 3\n",
        "nim = \"4232401022\"\n",
        "alamat_lengkap = \"Komplek_Nurul_Jadid_Blok E_No 28\"\n",
        "pekerjaan = \"Guru_TPQ_Miftahul_'Ulum\"\n",
        "matakuliah = \"Pemrograman Dasar\"\n",
        "status_lulus = False\n",
        "akun_email_google_collaboratory = \"putriiandiniii09@gmail.com\"\n",
        "akun_email_github = \"putri.4232401022@students.polibatam.ac.id\"\n",
        "\n",
        "print ( nama )\n",
        "print ( umur )\n",
        "print ( tempat_tanggal_lahir)\n",
        "print ( jurusan )\n",
        "print ( prodi )\n",
        "print ( semester )\n",
        "print ( nim )\n",
        "print ( alamat_lengkap )\n",
        "print ( pekerjaan )\n",
        "print ( matakuliah )\n",
        "print ( status_lulus )\n",
        "print ( akun_email_google_collaboratory )\n",
        "print ( akun_email_github )"
      ]
    }
  ]
}