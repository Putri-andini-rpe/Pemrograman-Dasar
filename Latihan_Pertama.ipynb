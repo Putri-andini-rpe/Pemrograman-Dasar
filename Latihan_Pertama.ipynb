{
  "nbformat": 4,
  "nbformat_minor": 0,
  "metadata": {
    "colab": {
      "provenance": [],
      "authorship_tag": "ABX9TyPb9BmmMiXiRMNlOPZwJhV1",
      "include_colab_link": true
    },
    "kernelspec": {
      "name": "python3",
      "display_name": "Python 3"
    },
    "language_info": {
      "name": "python"
    }
  },
  "cells": [
    {
      "cell_type": "markdown",
      "metadata": {
        "id": "view-in-github",
        "colab_type": "text"
      },
      "source": [
        "<a href=\"https://colab.research.google.com/github/Putri-andini-rpe/Pemrograman-Dasar/blob/main/Latihan_Pertama.ipynb\" target=\"_parent\"><img src=\"https://colab.research.google.com/assets/colab-badge.svg\" alt=\"Open In Colab\"/></a>"
      ]
    },
    {
      "cell_type": "code",
      "execution_count": null,
      "metadata": {
        "colab": {
          "base_uri": "https://localhost:8080/"
        },
        "id": "Z2F6LGbUf8tI",
        "outputId": "1b8b8680-a6c4-44ef-d904-0b6e71643529"
      },
      "outputs": [
        {
          "name": "stdout",
          "output_type": "stream",
          "text": [
            "Berapa porsi makan yang anda beli? :3.5\n",
            "Siapa nama pelanggan? : Putri Andini\n",
            "Berapa tinggi badanmu? :160.0\n",
            "Berapa berat badanmu? :58.0\n",
            "Berapa jam lamanya kamu bermain game? :2\n",
            "Berapa jam lamanya kamu jogging? :2.5\n"
          ]
        }
      ],
      "source": [
        "Total        = float (input(\"Berapa porsi makan yang anda beli? :\"))\n",
        "Nama         = str (input(\"Siapa nama pelanggan? : \"))\n",
        "Tinggi_badan = float (input(\"Berapa tinggi badanmu? :\"))\n",
        "Berat_badan  = float (input(\"Berapa berat badanmu? :\"))\n",
        "Bermain_game = float (input(\"Berapa jam lamanya kamu bermain game? :\"))\n",
        "Joging       = float (input(\"Berapa jam lamanya kamu jogging? :\"))"
      ]
    },
    {
      "cell_type": "code",
      "source": [
        "food = \"Richeese\"\n",
        "drink = \"Juz Alpukat\"\n",
        "dessert = \"Puding\"\n",
        "durasi_pengantaran_gofood = 2\n",
        "durasi_membuat_dessert = 3\n",
        "hex_pengantaran = hex(durasi_pengantaran_gofood)\n",
        "durasi_octal = oct(durasi_membuat_dessert)\n",
        "\n",
        "print(\"Andini sedang memesan\", food)\n",
        "print(\"Jejes sedang meminum \"+ drink)\n",
        "print(\"salsa sedang membuat %s\" % (dessert))\n",
        "print(\"Berapa lama pesanan andini sampai ke tujuan? %.1f\" % (durasi_pengantaran_gofood), \"jam\")\n",
        "print(\"Berapa lama salsa membuat pudding coklat? %.1f\" % (durasi_membuat_dessert), \"jam\")\n",
        "print(\"Durasi pengantaran\", durasi_pengantaran_gofood,\"-> %.x :\",hex_pengantaran)\n",
        "print(\"Durasi membuat dessert (oktal):\", durasi_octal)\n"
      ],
      "metadata": {
        "colab": {
          "base_uri": "https://localhost:8080/"
        },
        "id": "14aeEgSgo4my",
        "outputId": "d5cd1c61-c7b0-4a0d-bcd4-feb9b71ad1a5"
      },
      "execution_count": null,
      "outputs": [
        {
          "output_type": "stream",
          "name": "stdout",
          "text": [
            "Andini sedang memesan Richeese\n",
            "Jejes sedang meminum Juz Alpukat\n",
            "salsa sedang membuat Puding\n",
            "Berapa lama pesanan andini sampai ke tujuan? 2.0 jam\n",
            "Berapa lama salsa membuat pudding coklat? 3.0 jam\n",
            "Durasi pengantaran 2 -> %.x : 0x2\n",
            "Durasi membuat dessert (oktal): 0o3\n"
          ]
        }
      ]
    },
    {
      "cell_type": "code",
      "source": [
        "# Kalkulator Sederhana\n",
        "a = 20\n",
        "b = 5\n",
        "\n",
        "print(\"Penjumlahan:\", a+b)\n",
        "print(\"Pengurangan:\", a-b)\n",
        "print(\"Perkalian:\", a*b)\n",
        "print(\"Pembagian:\", a/b)"
      ],
      "metadata": {
        "colab": {
          "base_uri": "https://localhost:8080/"
        },
        "id": "5IzAtD5cpO_J",
        "outputId": "7b6f7cea-f36d-4df9-b4a0-04501235d033"
      },
      "execution_count": null,
      "outputs": [
        {
          "output_type": "stream",
          "name": "stdout",
          "text": [
            "Penjumlahan: 25\n",
            "Pengurangan: 15\n",
            "Perkalian: 100\n",
            "Pembagian: 4.0\n"
          ]
        }
      ]
    },
    {
      "cell_type": "code",
      "source": [
        "#Mengecek Bilangan\n",
        "bilangan = 8\n",
        "hasil = (bilangan > 0) and (bilangan % 2 == 0)\n",
        "print(\"Genap dan positif?\", hasil)\n",
        "\n",
        "bilangan = 20\n",
        "hasil = (bilangan < -20) and (bilangan % 2 == 0)\n",
        "print(\"Genap dan positif?\", hasil)"
      ],
      "metadata": {
        "colab": {
          "base_uri": "https://localhost:8080/"
        },
        "id": "32QRTXuNq5mD",
        "outputId": "ffcc9713-8f49-4d29-924f-989132b8cdca"
      },
      "execution_count": null,
      "outputs": [
        {
          "output_type": "stream",
          "name": "stdout",
          "text": [
            "Genap dan positif? True\n",
            "Genap dan positif? False\n"
          ]
        }
      ]
    },
    {
      "cell_type": "code",
      "source": [
        "# Kalkulator Kasir\n",
        "harga_makan = int(input(\"Berapa harga mie ayam per porsi? \"))\n",
        "jumlah_makan = int(input(\"Berapa porsi yang anda beli? \"))\n",
        "total_makan = harga_makan * jumlah_makan\n",
        "\n",
        "print(f\"Harga makan per porsi = {harga_makan}\")\n",
        "print(f\"Jumlah yang dibeli = {jumlah_makan}\")\n",
        "print(f\"Total yang harus dibayar = {total_makan}\")"
      ],
      "metadata": {
        "colab": {
          "base_uri": "https://localhost:8080/"
        },
        "id": "OQ9EY92hrlrD",
        "outputId": "af7eed6c-7dfc-4b61-a74b-e076fabe6fd5"
      },
      "execution_count": null,
      "outputs": [
        {
          "output_type": "stream",
          "name": "stdout",
          "text": [
            "Berapa harga mie ayam per porsi? 25000\n",
            "Berapa porsi yang anda beli? 4\n",
            "Harga makan per porsi = 25000\n",
            "Jumlah yang dibeli = 4\n",
            "Total yang harus dibayar = 100000\n"
          ]
        }
      ]
    },
    {
      "cell_type": "code",
      "source": [
        "# Konversi Waktu\n",
        "total_detik = 3600\n",
        "jam = total_detik // 3600\n",
        "sisa_detik = total_detik % 3600\n",
        "menit = sisa_detik // 6\n",
        "detik = sisa_detik % 60\n",
        "total_detik = int(input(\"Total_Detik\"))\n",
        "\n",
        "print(f\"Hasil Konversi: {jam} jam, {menit} menit, {detik} detik\")"
      ],
      "metadata": {
        "colab": {
          "base_uri": "https://localhost:8080/"
        },
        "id": "_Ly1TzmHstIj",
        "outputId": "dcc2e9a4-f0a7-4777-b979-4ce8e86abd64"
      },
      "execution_count": null,
      "outputs": [
        {
          "output_type": "stream",
          "name": "stdout",
          "text": [
            "Total_Detik358200\n",
            "Hasil Konversi: 1 jam, 0 menit, 0 detik\n"
          ]
        }
      ]
    },
    {
      "cell_type": "code",
      "source": [
        "tugas = 90\n",
        "uts = 85\n",
        "uas = 78\n",
        "nilai_akhir = (0.3 * tugas) + (0.3 * uts) + ( 0.4 * uas)\n",
        "\n",
        "print(\"Nilai akhir -\", nilai_akhir)\n"
      ],
      "metadata": {
        "colab": {
          "base_uri": "https://localhost:8080/"
        },
        "id": "0qkrJuzI3Kjs",
        "outputId": "b640c8fa-ee52-4d53-d85a-06691717630c"
      },
      "execution_count": null,
      "outputs": [
        {
          "output_type": "stream",
          "name": "stdout",
          "text": [
            "Nilai akhir - 83.7\n"
          ]
        }
      ]
    },
    {
      "cell_type": "code",
      "source": [
        "# 1) Input standar kelulusan\n",
        "standar_kelulusan = float(input(\"Masukkan standar kelulusan: \"))\n",
        "\n",
        "# 2) Input 5 nilai mahasiswa\n",
        "nilai_mahasiswa_list = []\n",
        "for i in range(1, 6):\n",
        "    nilai = float(input(f\"Masukkan nilai mahasiswa ke-{i}: \"))\n",
        "    nilai_mahasiswa_list.append(nilai)\n",
        "\n",
        "# 3) Evaluasi tiap mahasiswa: lulus atau perlu remedial\n",
        "hasil_evaluasi = []\n",
        "for nilai in nilai_mahasiswa_list:\n",
        "    apakah_lulus = nilai >= standar_kelulusan   # True jika nilai >= standar\n",
        "    perlu_remedial = not apakah_lulus           # kebalikan dari lulus\n",
        "    hasil_evaluasi.append((nilai, apakah_lulus, perlu_remedial))\n",
        "\n",
        "# 4) Cetak hasil per mahasiswa dengan format rapi\n",
        "print(\"\\n=== Hasil Evaluasi Mahasiswa ===\")\n",
        "for idx, (nilai, lulus, remedial) in enumerate(hasil_evaluasi, start=1):\n",
        "    status = \"Lulus\" if lulus else \"Tidak Lulus\"\n",
        "    print(f\"Mahasiswa {idx}: Nilai = {nilai:.2f} | {status} | Perlu Remedial? {remedial}\")\n",
        "\n",
        "# 5) Ringkasan statistik sederhana\n",
        "jumlah_lulus = sum(1 for _, lulus, _ in hasil_evaluasi if lulus)\n",
        "jumlah_remedial = 5 - jumlah_lulus\n",
        "rata_rata = sum(nilai_mahasiswa_list) / len(nilai_mahasiswa_list)\n",
        "\n",
        "print(\"\\nRingkasan:\")\n",
        "print(f\"Jumlah mahasiswa: {len(nilai_mahasiswa_list)}\")\n",
        "print(f\"Jumlah lulus: {jumlah_lulus}\")\n",
        "print(f\"Jumlah perlu remedial: {jumlah_remedial}\")\n",
        "print(f\"Rata-rata nilai: {rata_rata:.2f}\")"
      ],
      "metadata": {
        "colab": {
          "base_uri": "https://localhost:8080/"
        },
        "id": "jmatfATB5EPY",
        "outputId": "040bbd5d-035a-4a00-de7a-8661b4122743"
      },
      "execution_count": 6,
      "outputs": [
        {
          "output_type": "stream",
          "name": "stdout",
          "text": [
            "Masukkan standar kelulusan: 3.2\n",
            "Masukkan nilai mahasiswa ke-1: 3.6\n",
            "Masukkan nilai mahasiswa ke-2: 3.8\n",
            "Masukkan nilai mahasiswa ke-3: 4\n",
            "Masukkan nilai mahasiswa ke-4: 3.0\n",
            "Masukkan nilai mahasiswa ke-5: 2.56\n",
            "\n",
            "=== Hasil Evaluasi Mahasiswa ===\n",
            "Mahasiswa 1: Nilai = 3.60 | Lulus | Perlu Remedial? False\n",
            "Mahasiswa 2: Nilai = 3.80 | Lulus | Perlu Remedial? False\n",
            "Mahasiswa 3: Nilai = 4.00 | Lulus | Perlu Remedial? False\n",
            "Mahasiswa 4: Nilai = 3.00 | Tidak Lulus | Perlu Remedial? True\n",
            "Mahasiswa 5: Nilai = 2.56 | Tidak Lulus | Perlu Remedial? True\n",
            "\n",
            "Ringkasan:\n",
            "Jumlah mahasiswa: 5\n",
            "Jumlah lulus: 3\n",
            "Jumlah perlu remedial: 2\n",
            "Rata-rata nilai: 3.39\n"
          ]
        }
      ]
    },
    {
      "cell_type": "code",
      "source": [
        "belanja = 3000000\n",
        "diskon = (0, 0.35 * belanja)[belanja > 2000000]\n",
        "total_harga = belanja - diskon\n",
        "\n",
        "# input belanja via keyboard\n",
        "belanja = int(input(\"Masukkan total belanja: \"))\n",
        "\n",
        "# Tentukan diskon\n",
        "if belanja > 2000000:\n",
        "  diskon = 0.35 * belanja\n",
        "else:\n",
        "  diskon = 0\n",
        "\n",
        "\n",
        "# Hitung total harga belanja setelah diskon\n",
        "total_harga = belanja - diskon\n",
        "\n",
        "\n",
        "print(\"Total belanja sebelum diskon =\", belanja)\n",
        "print(\"Diskon =\", diskon)\n",
        "print(\"total harga setelah diskon =\", total_harga)\n",
        "\n",
        "#Jelaskan pada laporan"
      ],
      "metadata": {
        "colab": {
          "base_uri": "https://localhost:8080/"
        },
        "id": "K6O2SXmLQrsk",
        "outputId": "b862f31f-226c-4443-a358-fa75da49a191"
      },
      "execution_count": 1,
      "outputs": [
        {
          "output_type": "stream",
          "name": "stdout",
          "text": [
            "Masukkan total belanja: 3000000\n",
            "Total belanja sebelum diskon = 3000000\n",
            "Diskon = 1050000.0\n",
            "total harga setelah diskon = 1950000.0\n"
          ]
        }
      ]
    }
  ]
}