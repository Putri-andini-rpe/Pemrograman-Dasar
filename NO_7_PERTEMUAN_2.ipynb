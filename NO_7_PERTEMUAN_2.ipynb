{
  "nbformat": 4,
  "nbformat_minor": 0,
  "metadata": {
    "colab": {
      "provenance": [],
      "authorship_tag": "ABX9TyOiTS0T8UFBahL4CsE0nea+",
      "include_colab_link": true
    },
    "kernelspec": {
      "name": "python3",
      "display_name": "Python 3"
    },
    "language_info": {
      "name": "python"
    }
  },
  "cells": [
    {
      "cell_type": "markdown",
      "metadata": {
        "id": "view-in-github",
        "colab_type": "text"
      },
      "source": [
        "<a href=\"https://colab.research.google.com/github/Putri-andini-rpe/Pemrograman-Dasar/blob/main/NO_7_PERTEMUAN_2.ipynb\" target=\"_parent\"><img src=\"https://colab.research.google.com/assets/colab-badge.svg\" alt=\"Open In Colab\"/></a>"
      ]
    },
    {
      "cell_type": "code",
      "execution_count": null,
      "metadata": {
        "id": "iK3ymn2d5a7B",
        "colab": {
          "base_uri": "https://localhost:8080/"
        },
        "outputId": "918256e3-f107-4be5-a715-589a758588ca"
      },
      "outputs": [
        {
          "output_type": "stream",
          "name": "stdout",
          "text": [
            "Nama: andini\n",
            "Umur: 20\n",
            "Tinggi Badan: 160.0 cm\n",
            "Berat Badan: 62 kg\n",
            "Jurusan: Teknik Elektro\n",
            "Semester: 3\n",
            "Status Lulus: False\n"
          ]
        }
      ],
      "source": [
        "# Biodata saya menggunakan konsep annotion\n",
        "\n",
        "nama: str = \"andini\"\n",
        "umur: int = 20\n",
        "tinggi_badan: float = 160.0   # cm\n",
        "berat_badan: float = 62\n",
        "jurusan: str = \"Teknik Elektro\"\n",
        "semester: int = 3\n",
        "status_lulus: bool = False\n",
        "\n",
        "# Menyimpan Data\n",
        "print(\"Nama:\", nama)\n",
        "print(\"Umur:\", umur)\n",
        "print(\"Tinggi Badan:\", tinggi_badan, \"cm\")\n",
        "print(\"Berat Badan:\", berat_badan, \"kg\")\n",
        "print(\"Jurusan:\", jurusan)\n",
        "print(\"Semester:\", semester)\n",
        "print(\"Status Lulus:\", status_lulus)"
      ]
    }
  ]
}