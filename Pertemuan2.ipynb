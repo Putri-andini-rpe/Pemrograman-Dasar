{
  "nbformat": 4,
  "nbformat_minor": 0,
  "metadata": {
    "colab": {
      "provenance": [],
      "toc_visible": true,
      "authorship_tag": "ABX9TyNmoYB8A/ducG4Zcjfy2sQq",
      "include_colab_link": true
    },
    "kernelspec": {
      "name": "python3",
      "display_name": "Python 3"
    },
    "language_info": {
      "name": "python"
    }
  },
  "cells": [
    {
      "cell_type": "markdown",
      "metadata": {
        "id": "view-in-github",
        "colab_type": "text"
      },
      "source": [
        "<a href=\"https://colab.research.google.com/github/Putri-andini-rpe/Pemrograman-Dasar/blob/main/Pertemuan2.ipynb\" target=\"_parent\"><img src=\"https://colab.research.google.com/assets/colab-badge.svg\" alt=\"Open In Colab\"/></a>"
      ]
    },
    {
      "cell_type": "code",
      "execution_count": 6,
      "metadata": {
        "colab": {
          "base_uri": "https://localhost:8080/"
        },
        "id": "A32X5bJYpZuN",
        "outputId": "c29c2031-abd9-4e9a-e06d-77eb8daccad5"
      },
      "outputs": [
        {
          "output_type": "stream",
          "name": "stdout",
          "text": [
            "---- Biodata Mahasiswa ----\n",
            "Nama       : Putri Andini\n",
            "Nim        : 4232401022\n",
            "Umur       : 20\n",
            "Jurusan    : Teknik Elektro\n",
            "Prodi      : TRPE\n",
            "Kelas      : Pagi A\n",
            "Semester   : 3\n",
            "Matakuliah : Pemrograman Dasar, Mekanika Fluida, PLC\n",
            "Hobi       : membaca, bermain game, mendengarkan musik\n",
            "Status_lulus: Belum Lulus\n"
          ]
        }
      ],
      "source": [
        "from os import unlink\n",
        "# Biodata saya dengan Non-Primitif\n",
        "\n",
        "#Tuple : Data yang jarang diubah\n",
        "identitas = (\"Putri Andini\", 4232401022, 20, \"Teknik Elektro\")\n",
        "# (nama, nim, umur, jurusan)\n",
        "\n",
        "#List : Data berurutan yang bisa dapat diubah\n",
        "matakuliah = [\"Pemrograman Dasar\", \"Mekanika Fluida\", \"PLC\"]\n",
        "\n",
        "#Set : Data unik\n",
        "hobi = {\"bermain game\", \"membaca\", \"mendengarkan musik\"}\n",
        "\n",
        "# Dictionary : Menyimpan seluruh data yang ada di biodata dengan key:value\n",
        "biodata = {\n",
        "    \"nama\": identitas[0],\n",
        "    \"nim\" : identitas[1],\n",
        "    \"umur\": identitas[2],\n",
        "    \"jurusan\": \"Teknik Elektro\",\n",
        "    \"prodi\": \"TRPE\",\n",
        "    \"kelas\": \"Pagi A\",\n",
        "    \"semester\": 3,\n",
        "    \"matakuliah\": matakuliah,\n",
        "    \"hobi\": hobi,\n",
        "    \"status_lulus\": False,}\n",
        "\n",
        "# Menampilkan Data\n",
        "\n",
        "print(\"---- Biodata Mahasiswa ----\")\n",
        "print(\"Nama       :\", biodata[ 'nama'])\n",
        "print(\"Nim        :\", biodata[ 'nim'])\n",
        "print(\"Umur       :\", biodata[ 'umur'])\n",
        "print(\"Jurusan    :\", biodata[ 'jurusan'])\n",
        "print(\"Prodi      :\", biodata[ 'prodi'])\n",
        "print(\"Kelas      :\", biodata[ 'kelas'])\n",
        "print(\"Semester   :\", biodata[ 'semester'])\n",
        "print(\"Matakuliah :\", ', '.join(biodata['matakuliah']))\n",
        "print(\"Hobi       :\", ', '.join(biodata['hobi']))\n",
        "print(\"Status_lulus:\", 'Lulus' if biodata['status_lulus'] else 'Belum Lulus')"
      ]
    }
  ]
}